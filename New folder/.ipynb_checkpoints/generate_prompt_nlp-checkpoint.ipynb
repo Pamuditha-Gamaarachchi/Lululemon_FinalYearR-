{
 "cells": [
  {
   "cell_type": "code",
   "execution_count": 1,
   "id": "dd4001d1",
   "metadata": {},
   "outputs": [],
   "source": [
    "import json\n",
    "import os\n",
    "\n",
    "import pandas as  pd\n",
    "import spacy\n",
    "\n",
    "import seaborn as sns\n",
    "import string\n",
    "\n",
    "from tqdm import tqdm\n",
    "from textblob import TextBlob\n",
    "\n",
    "from nltk.corpus import stopwords\n",
    "import nltk\n",
    "from nltk.stem import WordNetLemmatizer\n",
    "from nltk import word_tokenize\n",
    "import re\n",
    "\n",
    "\n",
    "from sklearn.model_selection import train_test_split\n",
    "from sklearn.preprocessing import LabelEncoder\n",
    "from sklearn.feature_extraction.text import CountVectorizer\n",
    "from sklearn.feature_extraction.text import TfidfTransformer\n",
    "from sklearn.naive_bayes import MultinomialNB\n",
    "from sklearn.pipeline import Pipeline\n",
    "\n",
    "\n",
    "from sklearn.preprocessing import FunctionTransformer\n",
    "from sklearn.base import BaseEstimator, TransformerMixin\n",
    "from sklearn.pipeline import FeatureUnion\n",
    "from sklearn.feature_extraction import DictVectorizer\n",
    "\n",
    "import swifter\n",
    "from sklearn.metrics import classification_report\n",
    "import matplotlib.pyplot as plt"
   ]
  },
  {
   "cell_type": "code",
   "execution_count": 3,
   "id": "7f5bc96c",
   "metadata": {},
   "outputs": [],
   "source": [
    "data = pd.read_csv('dataset.csv')"
   ]
  },
  {
   "cell_type": "code",
   "execution_count": 4,
   "id": "5cff7568",
   "metadata": {
    "scrolled": true
   },
   "outputs": [
    {
     "data": {
      "text/html": [
       "<div>\n",
       "<style scoped>\n",
       "    .dataframe tbody tr th:only-of-type {\n",
       "        vertical-align: middle;\n",
       "    }\n",
       "\n",
       "    .dataframe tbody tr th {\n",
       "        vertical-align: top;\n",
       "    }\n",
       "\n",
       "    .dataframe thead th {\n",
       "        text-align: right;\n",
       "    }\n",
       "</style>\n",
       "<table border=\"1\" class=\"dataframe\">\n",
       "  <thead>\n",
       "    <tr style=\"text-align: right;\">\n",
       "      <th></th>\n",
       "      <th>text</th>\n",
       "      <th>label</th>\n",
       "    </tr>\n",
       "  </thead>\n",
       "  <tbody>\n",
       "    <tr>\n",
       "      <th>0</th>\n",
       "      <td>Product Name: Adjustable Strap Sports Bra nan ...</td>\n",
       "      <td>original</td>\n",
       "    </tr>\n",
       "    <tr>\n",
       "      <th>1</th>\n",
       "      <td>Product Name: Convertible Workout Pants nan na...</td>\n",
       "      <td>original</td>\n",
       "    </tr>\n",
       "    <tr>\n",
       "      <th>2</th>\n",
       "      <td>Product Name: Baseball Cap nan nan nan nan nan...</td>\n",
       "      <td>original</td>\n",
       "    </tr>\n",
       "    <tr>\n",
       "      <th>3</th>\n",
       "      <td>Product Name: Basketball Jersey nan nan nan na...</td>\n",
       "      <td>original</td>\n",
       "    </tr>\n",
       "    <tr>\n",
       "      <th>4</th>\n",
       "      <td>Product Name: Boxing Gloves nan nan nan nan na...</td>\n",
       "      <td>original</td>\n",
       "    </tr>\n",
       "  </tbody>\n",
       "</table>\n",
       "</div>"
      ],
      "text/plain": [
       "                                                text     label\n",
       "0  Product Name: Adjustable Strap Sports Bra nan ...  original\n",
       "1  Product Name: Convertible Workout Pants nan na...  original\n",
       "2  Product Name: Baseball Cap nan nan nan nan nan...  original\n",
       "3  Product Name: Basketball Jersey nan nan nan na...  original\n",
       "4  Product Name: Boxing Gloves nan nan nan nan na...  original"
      ]
     },
     "execution_count": 4,
     "metadata": {},
     "output_type": "execute_result"
    }
   ],
   "source": [
    "data.head()"
   ]
  },
  {
   "cell_type": "code",
   "execution_count": 5,
   "id": "f95a6d9d",
   "metadata": {},
   "outputs": [
    {
     "data": {
      "text/plain": [
       "(400, 2)"
      ]
     },
     "execution_count": 5,
     "metadata": {},
     "output_type": "execute_result"
    }
   ],
   "source": [
    "data.shape"
   ]
  },
  {
   "cell_type": "code",
   "execution_count": 6,
   "id": "7ededc57",
   "metadata": {},
   "outputs": [
    {
     "data": {
      "text/plain": [
       "original    250\n",
       "similar     150\n",
       "Name: label, dtype: int64"
      ]
     },
     "execution_count": 6,
     "metadata": {},
     "output_type": "execute_result"
    }
   ],
   "source": [
    "data['label'].value_counts()"
   ]
  },
  {
   "cell_type": "code",
   "execution_count": 7,
   "id": "c185808b",
   "metadata": {},
   "outputs": [
    {
     "data": {
      "image/png": "[encoded data removed]",
      "text/plain": [
       "<Figure size 1500x500 with 1 Axes>"
      ]
     },
     "metadata": {},
     "output_type": "display_data"
    }
   ],
   "source": [
    "plt.figure(figsize=(15, 5))\n",
    "sns.countplot(data=data, x='label')\n",
    "plt.xticks(rotation=90)\n",
    "plt.show()"
   ]
  },
  {
   "cell_type": "code",
   "execution_count": 8,
   "id": "968a0bf2",
   "metadata": {},
   "outputs": [
    {
     "name": "stdout",
     "output_type": "stream",
     "text": [
      "<class 'pandas.core.frame.DataFrame'>\n",
      "RangeIndex: 400 entries, 0 to 399\n",
      "Data columns (total 2 columns):\n",
      " #   Column  Non-Null Count  Dtype \n",
      "---  ------  --------------  ----- \n",
      " 0   text    400 non-null    object\n",
      " 1   label   400 non-null    object\n",
      "dtypes: object(2)\n",
      "memory usage: 6.4+ KB\n"
     ]
    }
   ],
   "source": [
    "data.info()"
   ]
  },
  {
   "cell_type": "code",
   "execution_count": 9,
   "id": "c3996e84",
   "metadata": {},
   "outputs": [],
   "source": [
    "data['text'] = data['text'].astype(str)"
   ]
  },
  {
   "cell_type": "code",
   "execution_count": 10,
   "id": "16656511",
   "metadata": {},
   "outputs": [],
   "source": [
    "import re\n",
    "def cleanResume(txt):\n",
    "    cleanText = re.sub('http\\S+\\s', ' ', txt)\n",
    "    cleanText = re.sub('RT|cc', ' ', cleanText)\n",
    "    cleanText = re.sub('#\\S+\\s', ' ', cleanText)\n",
    "    cleanText = re.sub('@\\S+', '  ', cleanText)  \n",
    "    cleanText = re.sub('[%s]' % re.escape(\"\"\"!\"#$%&'()*+,-./:;<=>?@[\\]^_`{|}~\"\"\"), ' ', cleanText)\n",
    "    cleanText = re.sub(r'[^\\x00-\\x7f]', ' ', cleanText) \n",
    "    cleanText = re.sub('\\s+', ' ', cleanText)\n",
    "    return cleanText"
   ]
  },
  {
   "cell_type": "code",
   "execution_count": 11,
   "id": "8b2c86ba",
   "metadata": {},
   "outputs": [
    {
     "data": {
      "text/plain": [
       "'my webiste like is this and a ess it '"
      ]
     },
     "execution_count": 11,
     "metadata": {},
     "output_type": "execute_result"
    }
   ],
   "source": [
    "cleanResume(\"my #### $ #  #noorsaeed webiste like is this http://heloword and access it @gmain.com\")"
   ]
  },
  {
   "cell_type": "code",
   "execution_count": 12,
   "id": "e752795a",
   "metadata": {},
   "outputs": [],
   "source": [
    "data['text'] = data['text'].apply(lambda x: cleanResume(x))"
   ]
  },
  {
   "cell_type": "code",
   "execution_count": 13,
   "id": "0fdfdda1",
   "metadata": {},
   "outputs": [],
   "source": [
    "X = data.drop('label', axis=1)\n",
    "y = data['label']"
   ]
  },
  {
   "cell_type": "code",
   "execution_count": 14,
   "id": "93adde32",
   "metadata": {},
   "outputs": [],
   "source": [
    "from sklearn.model_selection import train_test_split\n",
    "\n",
    "X_train, X_test, y_train, y_test = train_test_split(X, y, test_size = 0.25)"
   ]
  },
  {
   "cell_type": "code",
   "execution_count": 15,
   "id": "8468bcbe",
   "metadata": {},
   "outputs": [],
   "source": [
    "from sklearn.feature_extraction.text import TfidfVectorizer\n",
    "tf = TfidfVectorizer()"
   ]
  },
  {
   "cell_type": "code",
   "execution_count": 16,
   "id": "4ca0c41d",
   "metadata": {},
   "outputs": [],
   "source": [
    "text_clf = Pipeline([\n",
    "...     ('vect', CountVectorizer(analyzer=\"word\", stop_words=\"english\")),\n",
    "...     ('tfidf', TfidfTransformer(use_idf=True)),\n",
    "...     ('clf', MultinomialNB(alpha=.01)),\n",
    "... ])"
   ]
  },
  {
   "cell_type": "code",
   "execution_count": 17,
   "id": "b7453854",
   "metadata": {},
   "outputs": [
    {
     "data": {
      "text/html": [
       "<style>#sk-container-id-1 {color: black;background-color: white;}#sk-container-id-1 pre{padding: 0;}#sk-container-id-1 div.sk-toggleable {background-color: white;}#sk-container-id-1 label.sk-toggleable__label {cursor: pointer;display: block;width: 100%;margin-bottom: 0;padding: 0.3em;box-sizing: border-box;text-align: center;}#sk-container-id-1 label.sk-toggleable__label-arrow:before {content: \"▸\";float: left;margin-right: 0.25em;color: #696969;}#sk-container-id-1 label.sk-toggleable__label-arrow:hover:before {color: black;}#sk-container-id-1 div.sk-estimator:hover label.sk-toggleable__label-arrow:before {color: black;}#sk-container-id-1 div.sk-toggleable__content {max-height: 0;max-width: 0;overflow: hidden;text-align: left;background-color: #f0f8ff;}#sk-container-id-1 div.sk-toggleable__content pre {margin: 0.2em;color: black;border-radius: 0.25em;background-color: #f0f8ff;}#sk-container-id-1 input.sk-toggleable__control:checked~div.sk-toggleable__content {max-height: 200px;max-width: 100%;overflow: auto;}#sk-container-id-1 input.sk-toggleable__control:checked~label.sk-toggleable__label-arrow:before {content: \"▾\";}#sk-container-id-1 div.sk-estimator input.sk-toggleable__control:checked~label.sk-toggleable__label {background-color: #d4ebff;}#sk-container-id-1 div.sk-label input.sk-toggleable__control:checked~label.sk-toggleable__label {background-color: #d4ebff;}#sk-container-id-1 input.sk-hidden--visually {border: 0;clip: rect(1px 1px 1px 1px);clip: rect(1px, 1px, 1px, 1px);height: 1px;margin: -1px;overflow: hidden;padding: 0;position: absolute;width: 1px;}#sk-container-id-1 div.sk-estimator {font-family: monospace;background-color: #f0f8ff;border: 1px dotted black;border-radius: 0.25em;box-sizing: border-box;margin-bottom: 0.5em;}#sk-container-id-1 div.sk-estimator:hover {background-color: #d4ebff;}#sk-container-id-1 div.sk-parallel-item::after {content: \"\";width: 100%;border-bottom: 1px solid gray;flex-grow: 1;}#sk-container-id-1 div.sk-label:hover label.sk-toggleable__label {background-color: #d4ebff;}#sk-container-id-1 div.sk-serial::before {content: \"\";position: absolute;border-left: 1px solid gray;box-sizing: border-box;top: 0;bottom: 0;left: 50%;z-index: 0;}#sk-container-id-1 div.sk-serial {display: flex;flex-direction: column;align-items: center;background-color: white;padding-right: 0.2em;padding-left: 0.2em;position: relative;}#sk-container-id-1 div.sk-item {position: relative;z-index: 1;}#sk-container-id-1 div.sk-parallel {display: flex;align-items: stretch;justify-content: center;background-color: white;position: relative;}#sk-container-id-1 div.sk-item::before, #sk-container-id-1 div.sk-parallel-item::before {content: \"\";position: absolute;border-left: 1px solid gray;box-sizing: border-box;top: 0;bottom: 0;left: 50%;z-index: -1;}#sk-container-id-1 div.sk-parallel-item {display: flex;flex-direction: column;z-index: 1;position: relative;background-color: white;}#sk-container-id-1 div.sk-parallel-item:first-child::after {align-self: flex-end;width: 50%;}#sk-container-id-1 div.sk-parallel-item:last-child::after {align-self: flex-start;width: 50%;}#sk-container-id-1 div.sk-parallel-item:only-child::after {width: 0;}#sk-container-id-1 div.sk-dashed-wrapped {border: 1px dashed gray;margin: 0 0.4em 0.5em 0.4em;box-sizing: border-box;padding-bottom: 0.4em;background-color: white;}#sk-container-id-1 div.sk-label label {font-family: monospace;font-weight: bold;display: inline-block;line-height: 1.2em;}#sk-container-id-1 div.sk-label-container {text-align: center;}#sk-container-id-1 div.sk-container {/* jupyter's `normalize.less` sets `[hidden] { display: none; }` but bootstrap.min.css set `[hidden] { display: none !important; }` so we also need the `!important` here to be able to override the default hidden behavior on the sphinx rendered scikit-learn.org. See: https://github.com/scikit-learn/scikit-learn/issues/21755 */display: inline-block !important;position: relative;}#sk-container-id-1 div.sk-text-repr-fallback {display: none;}</style><div id=\"sk-container-id-1\" class=\"sk-top-container\"><div class=\"sk-text-repr-fallback\"><pre>Pipeline(steps=[(&#x27;vect&#x27;, CountVectorizer(stop_words=&#x27;english&#x27;)),\n",
       "                (&#x27;tfidf&#x27;, TfidfTransformer()),\n",
       "                (&#x27;clf&#x27;, MultinomialNB(alpha=0.01))])</pre><b>In a Jupyter environment, please rerun this cell to show the HTML representation or trust the notebook. <br />On GitHub, the HTML representation is unable to render, please try loading this page with nbviewer.org.</b></div><div class=\"sk-container\" hidden><div class=\"sk-item sk-dashed-wrapped\"><div class=\"sk-label-container\"><div class=\"sk-label sk-toggleable\"><input class=\"sk-toggleable__control sk-hidden--visually\" id=\"sk-estimator-id-1\" type=\"checkbox\" ><label for=\"sk-estimator-id-1\" class=\"sk-toggleable__label sk-toggleable__label-arrow\">Pipeline</label><div class=\"sk-toggleable__content\"><pre>Pipeline(steps=[(&#x27;vect&#x27;, CountVectorizer(stop_words=&#x27;english&#x27;)),\n",
       "                (&#x27;tfidf&#x27;, TfidfTransformer()),\n",
       "                (&#x27;clf&#x27;, MultinomialNB(alpha=0.01))])</pre></div></div></div><div class=\"sk-serial\"><div class=\"sk-item\"><div class=\"sk-estimator sk-toggleable\"><input class=\"sk-toggleable__control sk-hidden--visually\" id=\"sk-estimator-id-2\" type=\"checkbox\" ><label for=\"sk-estimator-id-2\" class=\"sk-toggleable__label sk-toggleable__label-arrow\">CountVectorizer</label><div class=\"sk-toggleable__content\"><pre>CountVectorizer(stop_words=&#x27;english&#x27;)</pre></div></div></div><div class=\"sk-item\"><div class=\"sk-estimator sk-toggleable\"><input class=\"sk-toggleable__control sk-hidden--visually\" id=\"sk-estimator-id-3\" type=\"checkbox\" ><label for=\"sk-estimator-id-3\" class=\"sk-toggleable__label sk-toggleable__label-arrow\">TfidfTransformer</label><div class=\"sk-toggleable__content\"><pre>TfidfTransformer()</pre></div></div></div><div class=\"sk-item\"><div class=\"sk-estimator sk-toggleable\"><input class=\"sk-toggleable__control sk-hidden--visually\" id=\"sk-estimator-id-4\" type=\"checkbox\" ><label for=\"sk-estimator-id-4\" class=\"sk-toggleable__label sk-toggleable__label-arrow\">MultinomialNB</label><div class=\"sk-toggleable__content\"><pre>MultinomialNB(alpha=0.01)</pre></div></div></div></div></div></div></div>"
      ],
      "text/plain": [
       "Pipeline(steps=[('vect', CountVectorizer(stop_words='english')),\n",
       "                ('tfidf', TfidfTransformer()),\n",
       "                ('clf', MultinomialNB(alpha=0.01))])"
      ]
     },
     "execution_count": 17,
     "metadata": {},
     "output_type": "execute_result"
    }
   ],
   "source": [
    "text_clf.fit(X_train['text'].to_list(), list(y_train))"
   ]
  },
  {
   "cell_type": "code",
   "execution_count": 18,
   "id": "1eb114b0",
   "metadata": {},
   "outputs": [],
   "source": [
    "y_pred = text_clf.predict(X_test['text'].to_list())"
   ]
  },
  {
   "cell_type": "code",
   "execution_count": 19,
   "id": "75a8e8d5",
   "metadata": {},
   "outputs": [
    {
     "name": "stdout",
     "output_type": "stream",
     "text": [
      "              precision    recall  f1-score   support\n",
      "\n",
      "    original       0.53      0.63      0.58        63\n",
      "     similar       0.08      0.05      0.06        37\n",
      "\n",
      "    accuracy                           0.42       100\n",
      "   macro avg       0.31      0.34      0.32       100\n",
      "weighted avg       0.37      0.42      0.39       100\n",
      "\n"
     ]
    }
   ],
   "source": [
    "print(classification_report(y_test, y_pred))"
   ]
  },
  {
   "cell_type": "code",
   "execution_count": 20,
   "id": "b46c8724",
   "metadata": {},
   "outputs": [],
   "source": [
    "import pickle\n",
    "pickle.dump(text_clf, open(\"nlp_model.dat\", \"wb\"))"
   ]
  },
  {
   "cell_type": "code",
   "execution_count": 21,
   "id": "67493123",
   "metadata": {},
   "outputs": [],
   "source": [
    "with open('nlp_model.dat' , 'rb') as f:\n",
    "    model = pickle.load(f)"
   ]
  },
  {
   "cell_type": "code",
   "execution_count": 24,
   "id": "73c52a5d",
   "metadata": {},
   "outputs": [
    {
     "data": {
      "text/plain": [
       "'Product Name Convertible Workout Pants nan nan nan nan nan nan Brand Brand S nan nan nan nan nan nan Style Number ST 8194 nan nan nan nan nan nan Size Range M to XL nan nan nan nan nan nan Production Facility Facility 21 Hambantota nan nan nan nan nan nan nan nan nan nan nan nan nan nan Operation Description ID Operation Description Measurement Details Machine Used Time Minutes Operator Quality Check Remarks DF874211 Inspect straps 21 x 15 cm Hand Scissors 7 Cutter Yes None DF186591 Sew straps 4 x 13 cm Overlock Machine 5 Inspector No Based on design specs DF355655 Cut edges 27 x 22 cm Hand Scissors 1 Cutter No Align lining with main fabric DF410516 Attach elastic 22 x 5 cm Lockstitch Machine 1 Decorator No Check seam a uracy DF515237 Cut panels 48 x 6 cm Lockstitch Machine 2 Inspector No Check seam a uracy DF218616 Sew edges 19 x 27 cm Fabric Cutter 7 Decorator No Ensure precision in cutting DF746278 Sew fabric 48 x 39 cm Overlock Machine 9 Cutter No Based on design specs DF268751 Inspect straps 37 x 23 cm Lockstitch Machine 2 Seamstress Yes Align lining with main fabric DF513289 Cut fabric 26 x 19 cm Hand Scissors 3 Decorator Yes Based on design specs DF921770 Inspect panels 9 x 33 cm Overlock Machine 3 Inspector Yes Based on design specs DF739489 Inspect panels 29 x 25 cm Overlock Machine 3 Decorator No Align lining with main fabric DF244986 Attach edges 45 x 37 cm Lockstitch Machine 5 Seamstress Yes Ensure precision in cutting DF274680 Inspect fabric 39 x 8 cm Fabric Cutter 1 Finisher No Ensure precision in cutting DF573611 Inspect elastic 14 x 12 cm Fabric Cutter 6 Finisher No None DF198567 Cut panels 35 x 14 cm Overlock Machine 10 Decorator Yes Align lining with main fabric DF156156 Cut elastic 3 x 14 cm Hand Scissors 6 Decorator Yes Align lining with main fabric DF738876 Sew elastic 39 x 40 cm Overlock Machine 7 Finisher No Ensure precision in cutting DF115379 Assemble edges 37 x 15 cm Overlock Machine 6 Inspector No Check seam a uracy DF461398 Attach straps 35 x 5 cm Fabric Cutter 10 Seamstress No Align lining with main fabric DF498375 Sew panels 12 x 29 cm Fabric Cutter 5 Seamstress Yes Align lining with main fabric DF861140 Sew straps 25 x 37 cm Hand Scissors 10 Decorator No Check seam a uracy DF885004 Assemble straps 26 x 21 cm Fabric Cutter 1 Seamstress No Based on design specs DF801834 Attach elastic 49 x 30 cm Zigzag Machine 1 Seamstress Yes Align lining with main fabric DF630615 Assemble panels 16 x 42 cm Hand Scissors 7 Seamstress Yes Based on design specs DF130794 Cut fabric 23 x 49 cm Hand Scissors 6 Finisher No Ensure precision in cutting DF704884 Attach straps 41 x 38 cm Overlock Machine 9 Seamstress Yes Based on design specs DF223961 Assemble panels 35 x 14 cm Overlock Machine 3 Decorator No Align lining with main fabric DF858133 Assemble straps 30 x 3 cm Overlock Machine 7 Finisher No Ensure precision in cutting DF466366 Assemble straps 30 x 48 cm Lockstitch Machine 1 Decorator No Ensure precision in cutting DF916473 Assemble fabric 42 x 16 cm Hand Scissors 4 Seamstress Yes Align lining with main fabric'"
      ]
     },
     "execution_count": 24,
     "metadata": {},
     "output_type": "execute_result"
    }
   ],
   "source": [
    "X_train['text'][1]"
   ]
  },
  {
   "cell_type": "code",
   "execution_count": 25,
   "id": "aebbe379",
   "metadata": {},
   "outputs": [],
   "source": [
    "sample_text = [\"Product Name Convertible Workout Pants nan nan nan nan nan nan Brand Brand S nan nan nan nan nan nan Style Number ST 8194 nan nan nan nan nan nan Size Range M to XL nan nan nan nan nan nan Production Facility Facility 21 Hambantota nan nan nan nan nan nan nan nan nan nan nan nan nan nan Operation Description ID Operation Description Measurement Details Machine Used Time Minutes Operator Quality Check Remarks DF874211 Inspect straps 21 x 15 cm Hand Scissors 7 Cutter Yes None DF186591 Sew straps 4 x 13 cm Overlock Machine 5 Inspector No Based on design specs DF355655 Cut edges 27 x 22 cm Hand Scissors 1 Cutter No Align lining with main fabric DF410516 Attach elastic 22 x 5 cm Lockstitch Machine 1 Decorator No Check seam a uracy DF515237 Cut panels 48 x 6 cm Lockstitch Machine 2 Inspector No Check seam a uracy DF218616 Sew edges 19 x 27 cm Fabric Cutter 7 Decorator No Ensure precision in cutting DF746278 Sew fabric 48 x 39 cm Overlock Machine 9 Cutter No Based on design specs DF268751 Inspect straps 37 x 23 cm Lockstitch Machine 2 Seamstress Yes Align lining with main fabric DF513289 Cut fabric 26 x 19 cm Hand Scissors 3 Decorator Yes Based on design specs DF921770 Inspect panels 9 x 33 cm Overlock Machine 3 Inspector Yes Based on design specs DF739489 Inspect panels 29 x 25 cm Overlock Machine 3 Decorator No Align lining with main fabric DF244986 Attach edges 45 x 37 cm Lockstitch Machine 5 Seamstress Yes Ensure precision in cutting DF274680 Inspect fabric 39 x 8 cm Fabric Cutter 1 Finisher No Ensure precision in cutting DF573611 Inspect elastic 14 x 12 cm Fabric Cutter 6 Finisher No None DF198567 Cut panels 35 x 14 cm Overlock Machine 10 Decorator Yes Align lining with main fabric DF156156 Cut elastic 3 x 14 cm Hand Scissors 6 Decorator Yes Align lining with main fabric DF738876 Sew elastic 39 x 40 cm Overlock Machine 7 Finisher No Ensure precision in cutting DF115379 Assemble edges 37 x 15 cm Overlock Machine 6 Inspector No Check seam a uracy DF461398 Attach straps 35 x 5 cm Fabric Cutter 10 Seamstress No Align lining with main fabric DF498375 Sew panels 12 x 29 cm Fabric Cutter 5 Seamstress Yes Align lining with main fabric DF861140 Sew straps 25 x 37 cm Hand Scissors 10 Decorator No Check seam a uracy DF885004 Assemble straps 26 x 21 cm Fabric Cutter 1 Seamstress No Based on design specs DF801834 Attach elastic 49 x 30 cm Zigzag Machine 1 Seamstress Yes Align lining with main fabric DF630615 Assemble panels 16 x 42 cm Hand Scissors 7 Seamstress Yes Based on design specs DF130794 Cut fabric 23 x 49 cm Hand Scissors 6 Finisher No Ensure precision in cutting DF704884 Attach straps 41 x 38 cm Overlock Machine 9 Seamstress Yes Based on design specs DF223961 Assemble panels 35 x 14 cm Overlock Machine 3 Decorator No Align lining with main fabric DF858133 Assemble straps 30 x 3 cm Overlock Machine 7 Finisher No Ensure precision in cutting DF466366 Assemble straps 30 x 48 cm Lockstitch Machine 1 Decorator No Ensure precision in cutting DF916473 Assemble fabric 42 x 16 cm Hand Scissors 4 Seamstress Yes Align lining with main fabric\"]"
   ]
  },
  {
   "cell_type": "code",
   "execution_count": 26,
   "id": "5527a565",
   "metadata": {},
   "outputs": [
    {
     "data": {
      "text/plain": [
       "'original'"
      ]
     },
     "execution_count": 26,
     "metadata": {},
     "output_type": "execute_result"
    }
   ],
   "source": [
    "model.predict(sample_text)[0]"
   ]
  },
  {
   "cell_type": "code",
   "execution_count": 27,
   "id": "b82021e5",
   "metadata": {},
   "outputs": [],
   "source": [
    "def predict(text):\n",
    "    value = model.predict([text])\n",
    "    return value[0]"
   ]
  },
  {
   "cell_type": "code",
   "execution_count": 55,
   "id": "9001ebf6",
   "metadata": {},
   "outputs": [
    {
     "data": {
      "application/vnd.jupyter.widget-view+json": {
       "model_id": "eeb20a8985c0462d957c8e79a4f6d2e5",
       "version_major": 2,
       "version_minor": 0
      },
      "text/plain": [
       "FileUpload(value={}, accept='.xlsx,.xls', description='Upload')"
      ]
     },
     "metadata": {},
     "output_type": "display_data"
    }
   ],
   "source": [
    "from IPython.display import display\n",
    "from ipywidgets import FileUpload\n",
    "\n",
    "upload = FileUpload(accept=\".xlsx,.xls\", multiple=False)\n",
    "display(upload)"
   ]
  },
  {
   "cell_type": "code",
   "execution_count": 56,
   "id": "cebb38a7",
   "metadata": {},
   "outputs": [],
   "source": [
    "def save_uploaded_file(upload_widget, save_directory=\"uploads\"):\n",
    "    if not upload_widget.value:\n",
    "        print(\"No file uploaded. Please upload a file.\")\n",
    "        return\n",
    "    \n",
    "    uploaded_file = next(iter(upload_widget.value.values()))\n",
    "    file_name = uploaded_file['metadata']['name']\n",
    "    \n",
    "    os.makedirs(save_directory, exist_ok=True)\n",
    "    \n",
    "    save_path = os.path.join(save_directory, file_name)\n",
    "    with open(save_path, 'wb') as f:\n",
    "        f.write(uploaded_file['content'])\n",
    "    \n",
    "    print(f\"File saved to: {save_path}\")"
   ]
  },
  {
   "cell_type": "code",
   "execution_count": 57,
   "id": "43168136",
   "metadata": {},
   "outputs": [
    {
     "name": "stdout",
     "output_type": "stream",
     "text": [
      "original\n"
     ]
    }
   ],
   "source": [
    "if upload.value:\n",
    "    uploaded_file = next(iter(upload.value.values()))\n",
    "    file_name = uploaded_file['metadata']['name']\n",
    "\n",
    "    df = pd.read_excel(file_name)\n",
    "\n",
    "    all_text = df.astype(str).values.flatten()\n",
    "    combined_text = ' '.join([item for item in all_text if item != ''])\n",
    "\n",
    "    print(model.predict([combined_text])[0])\n"
   ]
  },
  {
   "cell_type": "code",
   "execution_count": null,
   "id": "64f73040",
   "metadata": {},
   "outputs": [],
   "source": []
  },
  {
   "cell_type": "code",
   "execution_count": null,
   "id": "07d4c063",
   "metadata": {},
   "outputs": [],
   "source": []
  }
 ],
 "metadata": {
  "kernelspec": {
   "display_name": "Python 3 (ipykernel)",
   "language": "python",
   "name": "python3"
  },
  "language_info": {
   "codemirror_mode": {
    "name": "ipython",
    "version": 3
   },
   "file_extension": ".py",
   "mimetype": "text/x-python",
   "name": "python",
   "nbconvert_exporter": "python",
   "pygments_lexer": "ipython3",
   "version": "3.10.9"
  }
 },
 "nbformat": 4,
 "nbformat_minor": 5
}
