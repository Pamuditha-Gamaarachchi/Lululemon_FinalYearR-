{
 "cells": [
  {
   "cell_type": "code",
   "execution_count": 36,
   "id": "f0db3627",
   "metadata": {},
   "outputs": [],
   "source": [
    "import numpy as np\n",
    "import pandas as pd\n",
    "import matplotlib.pyplot as plt\n",
    "import seaborn as sns\n",
    "from sklearn.preprocessing import LabelEncoder\n",
    "import ipywidgets as widgets\n",
    "from ipywidgets import interact"
   ]
  },
  {
   "cell_type": "code",
   "execution_count": 2,
   "id": "82aabd50",
   "metadata": {},
   "outputs": [],
   "source": [
    "data = pd.read_csv('modified_data1.csv', encoding='latin-1')"
   ]
  },
  {
   "cell_type": "code",
   "execution_count": 3,
   "id": "9142d978",
   "metadata": {},
   "outputs": [
    {
     "data": {
      "text/html": [
       "<div>\n",
       "<style scoped>\n",
       "    .dataframe tbody tr th:only-of-type {\n",
       "        vertical-align: middle;\n",
       "    }\n",
       "\n",
       "    .dataframe tbody tr th {\n",
       "        vertical-align: top;\n",
       "    }\n",
       "\n",
       "    .dataframe thead th {\n",
       "        text-align: right;\n",
       "    }\n",
       "</style>\n",
       "<table border=\"1\" class=\"dataframe\">\n",
       "  <thead>\n",
       "    <tr style=\"text-align: right;\">\n",
       "      <th></th>\n",
       "      <th>Brand_ID</th>\n",
       "      <th>Brand_Name</th>\n",
       "      <th>Material_Type</th>\n",
       "      <th>Eco_Friendly_Manufacturing</th>\n",
       "      <th>Carbon_Footprint_MT</th>\n",
       "      <th>Water_Usage_Liters</th>\n",
       "      <th>Waste_Production_KG</th>\n",
       "      <th>Recycling_Programs</th>\n",
       "      <th>Impact Score (out of 30)</th>\n",
       "      <th>Impact Score Grade</th>\n",
       "      <th>Unnamed: 10</th>\n",
       "      <th>Unnamed: 11</th>\n",
       "      <th>Unnamed: 12</th>\n",
       "      <th>Unnamed: 13</th>\n",
       "    </tr>\n",
       "  </thead>\n",
       "  <tbody>\n",
       "    <tr>\n",
       "      <th>0</th>\n",
       "      <td>BRAND-0001</td>\n",
       "      <td>Brand_1</td>\n",
       "      <td>Tencel</td>\n",
       "      <td>No</td>\n",
       "      <td>1.75</td>\n",
       "      <td>4511152.79</td>\n",
       "      <td>97844.11</td>\n",
       "      <td>No</td>\n",
       "      <td>16.0</td>\n",
       "      <td>C</td>\n",
       "      <td>NaN</td>\n",
       "      <td>NaN</td>\n",
       "      <td>NaN</td>\n",
       "      <td>NaN</td>\n",
       "    </tr>\n",
       "    <tr>\n",
       "      <th>1</th>\n",
       "      <td>BRAND-0002</td>\n",
       "      <td>Brand_2</td>\n",
       "      <td>Vegan Leather</td>\n",
       "      <td>Yes</td>\n",
       "      <td>124.39</td>\n",
       "      <td>1951566.31</td>\n",
       "      <td>37267.75</td>\n",
       "      <td>No</td>\n",
       "      <td>16.0</td>\n",
       "      <td>C</td>\n",
       "      <td>NaN</td>\n",
       "      <td>NaN</td>\n",
       "      <td>NaN</td>\n",
       "      <td>NaN</td>\n",
       "    </tr>\n",
       "    <tr>\n",
       "      <th>2</th>\n",
       "      <td>BRAND-0003</td>\n",
       "      <td>Brand_3</td>\n",
       "      <td>Vegan Leather</td>\n",
       "      <td>No</td>\n",
       "      <td>336.66</td>\n",
       "      <td>467454.52</td>\n",
       "      <td>38385.92</td>\n",
       "      <td>No</td>\n",
       "      <td>18.0</td>\n",
       "      <td>C</td>\n",
       "      <td>NaN</td>\n",
       "      <td>NaN</td>\n",
       "      <td>NaN</td>\n",
       "      <td>NaN</td>\n",
       "    </tr>\n",
       "    <tr>\n",
       "      <th>3</th>\n",
       "      <td>BRAND-0004</td>\n",
       "      <td>Brand_4</td>\n",
       "      <td>Bamboo Fabric</td>\n",
       "      <td>No</td>\n",
       "      <td>152.04</td>\n",
       "      <td>899576.90</td>\n",
       "      <td>32665.45</td>\n",
       "      <td>No</td>\n",
       "      <td>18.0</td>\n",
       "      <td>C</td>\n",
       "      <td>NaN</td>\n",
       "      <td>NaN</td>\n",
       "      <td>NaN</td>\n",
       "      <td>NaN</td>\n",
       "    </tr>\n",
       "    <tr>\n",
       "      <th>4</th>\n",
       "      <td>BRAND-0005</td>\n",
       "      <td>Brand_5</td>\n",
       "      <td>Bamboo Fabric</td>\n",
       "      <td>Yes</td>\n",
       "      <td>415.63</td>\n",
       "      <td>1809219.90</td>\n",
       "      <td>37295.47</td>\n",
       "      <td>Yes</td>\n",
       "      <td>22.0</td>\n",
       "      <td>B</td>\n",
       "      <td>NaN</td>\n",
       "      <td>NaN</td>\n",
       "      <td>NaN</td>\n",
       "      <td>NaN</td>\n",
       "    </tr>\n",
       "    <tr>\n",
       "      <th>...</th>\n",
       "      <td>...</td>\n",
       "      <td>...</td>\n",
       "      <td>...</td>\n",
       "      <td>...</td>\n",
       "      <td>...</td>\n",
       "      <td>...</td>\n",
       "      <td>...</td>\n",
       "      <td>...</td>\n",
       "      <td>...</td>\n",
       "      <td>...</td>\n",
       "      <td>...</td>\n",
       "      <td>...</td>\n",
       "      <td>...</td>\n",
       "      <td>...</td>\n",
       "    </tr>\n",
       "    <tr>\n",
       "      <th>994</th>\n",
       "      <td>NaN</td>\n",
       "      <td>NaN</td>\n",
       "      <td>NaN</td>\n",
       "      <td>NaN</td>\n",
       "      <td>NaN</td>\n",
       "      <td>NaN</td>\n",
       "      <td>NaN</td>\n",
       "      <td>NaN</td>\n",
       "      <td>NaN</td>\n",
       "      <td>NaN</td>\n",
       "      <td>NaN</td>\n",
       "      <td>NaN</td>\n",
       "      <td>NaN</td>\n",
       "      <td>NaN</td>\n",
       "    </tr>\n",
       "    <tr>\n",
       "      <th>995</th>\n",
       "      <td>NaN</td>\n",
       "      <td>NaN</td>\n",
       "      <td>NaN</td>\n",
       "      <td>NaN</td>\n",
       "      <td>NaN</td>\n",
       "      <td>NaN</td>\n",
       "      <td>NaN</td>\n",
       "      <td>NaN</td>\n",
       "      <td>NaN</td>\n",
       "      <td>NaN</td>\n",
       "      <td>NaN</td>\n",
       "      <td>NaN</td>\n",
       "      <td>NaN</td>\n",
       "      <td>NaN</td>\n",
       "    </tr>\n",
       "    <tr>\n",
       "      <th>996</th>\n",
       "      <td>NaN</td>\n",
       "      <td>NaN</td>\n",
       "      <td>NaN</td>\n",
       "      <td>NaN</td>\n",
       "      <td>NaN</td>\n",
       "      <td>NaN</td>\n",
       "      <td>NaN</td>\n",
       "      <td>NaN</td>\n",
       "      <td>NaN</td>\n",
       "      <td>NaN</td>\n",
       "      <td>NaN</td>\n",
       "      <td>NaN</td>\n",
       "      <td>NaN</td>\n",
       "      <td>NaN</td>\n",
       "    </tr>\n",
       "    <tr>\n",
       "      <th>997</th>\n",
       "      <td>NaN</td>\n",
       "      <td>NaN</td>\n",
       "      <td>NaN</td>\n",
       "      <td>NaN</td>\n",
       "      <td>NaN</td>\n",
       "      <td>NaN</td>\n",
       "      <td>NaN</td>\n",
       "      <td>NaN</td>\n",
       "      <td>NaN</td>\n",
       "      <td>NaN</td>\n",
       "      <td>NaN</td>\n",
       "      <td>NaN</td>\n",
       "      <td>NaN</td>\n",
       "      <td>NaN</td>\n",
       "    </tr>\n",
       "    <tr>\n",
       "      <th>998</th>\n",
       "      <td>NaN</td>\n",
       "      <td>NaN</td>\n",
       "      <td>NaN</td>\n",
       "      <td>NaN</td>\n",
       "      <td>NaN</td>\n",
       "      <td>NaN</td>\n",
       "      <td>NaN</td>\n",
       "      <td>NaN</td>\n",
       "      <td>NaN</td>\n",
       "      <td>NaN</td>\n",
       "      <td>NaN</td>\n",
       "      <td>NaN</td>\n",
       "      <td>NaN</td>\n",
       "      <td>NaN</td>\n",
       "    </tr>\n",
       "  </tbody>\n",
       "</table>\n",
       "<p>999 rows × 14 columns</p>\n",
       "</div>"
      ],
      "text/plain": [
       "       Brand_ID Brand_Name  Material_Type Eco_Friendly_Manufacturing  \\\n",
       "0    BRAND-0001    Brand_1         Tencel                         No   \n",
       "1    BRAND-0002    Brand_2  Vegan Leather                        Yes   \n",
       "2    BRAND-0003    Brand_3  Vegan Leather                         No   \n",
       "3    BRAND-0004    Brand_4  Bamboo Fabric                         No   \n",
       "4    BRAND-0005    Brand_5  Bamboo Fabric                        Yes   \n",
       "..          ...        ...            ...                        ...   \n",
       "994         NaN        NaN            NaN                        NaN   \n",
       "995         NaN        NaN            NaN                        NaN   \n",
       "996         NaN        NaN            NaN                        NaN   \n",
       "997         NaN        NaN            NaN                        NaN   \n",
       "998         NaN        NaN            NaN                        NaN   \n",
       "\n",
       "     Carbon_Footprint_MT  Water_Usage_Liters  Waste_Production_KG  \\\n",
       "0                   1.75          4511152.79             97844.11   \n",
       "1                 124.39          1951566.31             37267.75   \n",
       "2                 336.66           467454.52             38385.92   \n",
       "3                 152.04           899576.90             32665.45   \n",
       "4                 415.63          1809219.90             37295.47   \n",
       "..                   ...                 ...                  ...   \n",
       "994                  NaN                 NaN                  NaN   \n",
       "995                  NaN                 NaN                  NaN   \n",
       "996                  NaN                 NaN                  NaN   \n",
       "997                  NaN                 NaN                  NaN   \n",
       "998                  NaN                 NaN                  NaN   \n",
       "\n",
       "    Recycling_Programs  Impact Score (out of 30) Impact Score Grade  \\\n",
       "0                   No                      16.0                  C   \n",
       "1                   No                      16.0                  C   \n",
       "2                   No                      18.0                  C   \n",
       "3                   No                      18.0                  C   \n",
       "4                  Yes                      22.0                  B   \n",
       "..                 ...                       ...                ...   \n",
       "994                NaN                       NaN                NaN   \n",
       "995                NaN                       NaN                NaN   \n",
       "996                NaN                       NaN                NaN   \n",
       "997                NaN                       NaN                NaN   \n",
       "998                NaN                       NaN                NaN   \n",
       "\n",
       "     Unnamed: 10  Unnamed: 11  Unnamed: 12  Unnamed: 13  \n",
       "0            NaN          NaN          NaN          NaN  \n",
       "1            NaN          NaN          NaN          NaN  \n",
       "2            NaN          NaN          NaN          NaN  \n",
       "3            NaN          NaN          NaN          NaN  \n",
       "4            NaN          NaN          NaN          NaN  \n",
       "..           ...          ...          ...          ...  \n",
       "994          NaN          NaN          NaN          NaN  \n",
       "995          NaN          NaN          NaN          NaN  \n",
       "996          NaN          NaN          NaN          NaN  \n",
       "997          NaN          NaN          NaN          NaN  \n",
       "998          NaN          NaN          NaN          NaN  \n",
       "\n",
       "[999 rows x 14 columns]"
      ]
     },
     "execution_count": 3,
     "metadata": {},
     "output_type": "execute_result"
    }
   ],
   "source": [
    "data"
   ]
  },
  {
   "cell_type": "code",
   "execution_count": 4,
   "id": "7cf90547",
   "metadata": {},
   "outputs": [],
   "source": [
    "data=data.drop(['Unnamed: 10','Unnamed: 11','Unnamed: 12','Unnamed: 13'], axis=1)"
   ]
  },
  {
   "cell_type": "code",
   "execution_count": 5,
   "id": "270d96fc",
   "metadata": {},
   "outputs": [
    {
     "data": {
      "text/plain": [
       "<Axes: >"
      ]
     },
     "execution_count": 5,
     "metadata": {},
     "output_type": "execute_result"
    },
    {
     "data": {
      "image/png": "[encoded data removed]",
      "text/plain": [
       "<Figure size 640x480 with 2 Axes>"
      ]
     },
     "metadata": {},
     "output_type": "display_data"
    }
   ],
   "source": [
    "sns.heatmap(data.isnull(),yticklabels=False, cmap=\"viridis\")"
   ]
  },
  {
   "cell_type": "code",
   "execution_count": 6,
   "id": "ff916f12",
   "metadata": {},
   "outputs": [],
   "source": [
    "data=data.dropna()"
   ]
  },
  {
   "cell_type": "code",
   "execution_count": 7,
   "id": "2b1a7ce0",
   "metadata": {},
   "outputs": [
    {
     "data": {
      "text/plain": [
       "<Axes: >"
      ]
     },
     "execution_count": 7,
     "metadata": {},
     "output_type": "execute_result"
    },
    {
     "data": {
      "image/png": "[encoded data removed]",
      "text/plain": [
       "<Figure size 640x480 with 2 Axes>"
      ]
     },
     "metadata": {},
     "output_type": "display_data"
    }
   ],
   "source": [
    "sns.heatmap(data.isnull(),yticklabels=False, cmap=\"viridis\")"
   ]
  },
  {
   "cell_type": "code",
   "execution_count": 8,
   "id": "0619b0a9",
   "metadata": {},
   "outputs": [
    {
     "data": {
      "text/html": [
       "<div>\n",
       "<style scoped>\n",
       "    .dataframe tbody tr th:only-of-type {\n",
       "        vertical-align: middle;\n",
       "    }\n",
       "\n",
       "    .dataframe tbody tr th {\n",
       "        vertical-align: top;\n",
       "    }\n",
       "\n",
       "    .dataframe thead th {\n",
       "        text-align: right;\n",
       "    }\n",
       "</style>\n",
       "<table border=\"1\" class=\"dataframe\">\n",
       "  <thead>\n",
       "    <tr style=\"text-align: right;\">\n",
       "      <th></th>\n",
       "      <th>Brand_ID</th>\n",
       "      <th>Brand_Name</th>\n",
       "      <th>Material_Type</th>\n",
       "      <th>Eco_Friendly_Manufacturing</th>\n",
       "      <th>Carbon_Footprint_MT</th>\n",
       "      <th>Water_Usage_Liters</th>\n",
       "      <th>Waste_Production_KG</th>\n",
       "      <th>Recycling_Programs</th>\n",
       "      <th>Impact Score (out of 30)</th>\n",
       "      <th>Impact Score Grade</th>\n",
       "    </tr>\n",
       "  </thead>\n",
       "  <tbody>\n",
       "    <tr>\n",
       "      <th>0</th>\n",
       "      <td>BRAND-0001</td>\n",
       "      <td>Brand_1</td>\n",
       "      <td>Tencel</td>\n",
       "      <td>No</td>\n",
       "      <td>1.75</td>\n",
       "      <td>4511152.79</td>\n",
       "      <td>97844.11</td>\n",
       "      <td>No</td>\n",
       "      <td>16.0</td>\n",
       "      <td>C</td>\n",
       "    </tr>\n",
       "    <tr>\n",
       "      <th>1</th>\n",
       "      <td>BRAND-0002</td>\n",
       "      <td>Brand_2</td>\n",
       "      <td>Vegan Leather</td>\n",
       "      <td>Yes</td>\n",
       "      <td>124.39</td>\n",
       "      <td>1951566.31</td>\n",
       "      <td>37267.75</td>\n",
       "      <td>No</td>\n",
       "      <td>16.0</td>\n",
       "      <td>C</td>\n",
       "    </tr>\n",
       "    <tr>\n",
       "      <th>2</th>\n",
       "      <td>BRAND-0003</td>\n",
       "      <td>Brand_3</td>\n",
       "      <td>Vegan Leather</td>\n",
       "      <td>No</td>\n",
       "      <td>336.66</td>\n",
       "      <td>467454.52</td>\n",
       "      <td>38385.92</td>\n",
       "      <td>No</td>\n",
       "      <td>18.0</td>\n",
       "      <td>C</td>\n",
       "    </tr>\n",
       "    <tr>\n",
       "      <th>3</th>\n",
       "      <td>BRAND-0004</td>\n",
       "      <td>Brand_4</td>\n",
       "      <td>Bamboo Fabric</td>\n",
       "      <td>No</td>\n",
       "      <td>152.04</td>\n",
       "      <td>899576.90</td>\n",
       "      <td>32665.45</td>\n",
       "      <td>No</td>\n",
       "      <td>18.0</td>\n",
       "      <td>C</td>\n",
       "    </tr>\n",
       "    <tr>\n",
       "      <th>4</th>\n",
       "      <td>BRAND-0005</td>\n",
       "      <td>Brand_5</td>\n",
       "      <td>Bamboo Fabric</td>\n",
       "      <td>Yes</td>\n",
       "      <td>415.63</td>\n",
       "      <td>1809219.90</td>\n",
       "      <td>37295.47</td>\n",
       "      <td>Yes</td>\n",
       "      <td>22.0</td>\n",
       "      <td>B</td>\n",
       "    </tr>\n",
       "    <tr>\n",
       "      <th>...</th>\n",
       "      <td>...</td>\n",
       "      <td>...</td>\n",
       "      <td>...</td>\n",
       "      <td>...</td>\n",
       "      <td>...</td>\n",
       "      <td>...</td>\n",
       "      <td>...</td>\n",
       "      <td>...</td>\n",
       "      <td>...</td>\n",
       "      <td>...</td>\n",
       "    </tr>\n",
       "    <tr>\n",
       "      <th>495</th>\n",
       "      <td>BRAND-0496</td>\n",
       "      <td>Brand_496</td>\n",
       "      <td>Bamboo Fabric</td>\n",
       "      <td>Yes</td>\n",
       "      <td>456.03</td>\n",
       "      <td>260365.03</td>\n",
       "      <td>80547.15</td>\n",
       "      <td>Yes</td>\n",
       "      <td>24.0</td>\n",
       "      <td>B</td>\n",
       "    </tr>\n",
       "    <tr>\n",
       "      <th>496</th>\n",
       "      <td>BRAND-0497</td>\n",
       "      <td>Brand_497</td>\n",
       "      <td>Bamboo Fabric</td>\n",
       "      <td>No</td>\n",
       "      <td>61.01</td>\n",
       "      <td>4734444.74</td>\n",
       "      <td>61359.80</td>\n",
       "      <td>No</td>\n",
       "      <td>12.0</td>\n",
       "      <td>D</td>\n",
       "    </tr>\n",
       "    <tr>\n",
       "      <th>497</th>\n",
       "      <td>BRAND-0498</td>\n",
       "      <td>Brand_498</td>\n",
       "      <td>Bamboo Fabric</td>\n",
       "      <td>Yes</td>\n",
       "      <td>59.48</td>\n",
       "      <td>981356.74</td>\n",
       "      <td>61728.06</td>\n",
       "      <td>Yes</td>\n",
       "      <td>24.0</td>\n",
       "      <td>B</td>\n",
       "    </tr>\n",
       "    <tr>\n",
       "      <th>498</th>\n",
       "      <td>BRAND-0499</td>\n",
       "      <td>Brand_499</td>\n",
       "      <td>Organic Cotton</td>\n",
       "      <td>No</td>\n",
       "      <td>145.76</td>\n",
       "      <td>3980832.39</td>\n",
       "      <td>63411.32</td>\n",
       "      <td>No</td>\n",
       "      <td>12.0</td>\n",
       "      <td>D</td>\n",
       "    </tr>\n",
       "    <tr>\n",
       "      <th>499</th>\n",
       "      <td>BRAND-0500</td>\n",
       "      <td>Brand_500</td>\n",
       "      <td>Organic Cotton</td>\n",
       "      <td>Yes</td>\n",
       "      <td>308.83</td>\n",
       "      <td>4344935.25</td>\n",
       "      <td>36852.24</td>\n",
       "      <td>Yes</td>\n",
       "      <td>18.0</td>\n",
       "      <td>C</td>\n",
       "    </tr>\n",
       "  </tbody>\n",
       "</table>\n",
       "<p>500 rows × 10 columns</p>\n",
       "</div>"
      ],
      "text/plain": [
       "       Brand_ID Brand_Name   Material_Type Eco_Friendly_Manufacturing  \\\n",
       "0    BRAND-0001    Brand_1          Tencel                         No   \n",
       "1    BRAND-0002    Brand_2   Vegan Leather                        Yes   \n",
       "2    BRAND-0003    Brand_3   Vegan Leather                         No   \n",
       "3    BRAND-0004    Brand_4   Bamboo Fabric                         No   \n",
       "4    BRAND-0005    Brand_5   Bamboo Fabric                        Yes   \n",
       "..          ...        ...             ...                        ...   \n",
       "495  BRAND-0496  Brand_496   Bamboo Fabric                        Yes   \n",
       "496  BRAND-0497  Brand_497   Bamboo Fabric                         No   \n",
       "497  BRAND-0498  Brand_498   Bamboo Fabric                        Yes   \n",
       "498  BRAND-0499  Brand_499  Organic Cotton                         No   \n",
       "499  BRAND-0500  Brand_500  Organic Cotton                        Yes   \n",
       "\n",
       "     Carbon_Footprint_MT  Water_Usage_Liters  Waste_Production_KG  \\\n",
       "0                   1.75          4511152.79             97844.11   \n",
       "1                 124.39          1951566.31             37267.75   \n",
       "2                 336.66           467454.52             38385.92   \n",
       "3                 152.04           899576.90             32665.45   \n",
       "4                 415.63          1809219.90             37295.47   \n",
       "..                   ...                 ...                  ...   \n",
       "495               456.03           260365.03             80547.15   \n",
       "496                61.01          4734444.74             61359.80   \n",
       "497                59.48           981356.74             61728.06   \n",
       "498               145.76          3980832.39             63411.32   \n",
       "499               308.83          4344935.25             36852.24   \n",
       "\n",
       "    Recycling_Programs  Impact Score (out of 30) Impact Score Grade  \n",
       "0                   No                      16.0                  C  \n",
       "1                   No                      16.0                  C  \n",
       "2                   No                      18.0                  C  \n",
       "3                   No                      18.0                  C  \n",
       "4                  Yes                      22.0                  B  \n",
       "..                 ...                       ...                ...  \n",
       "495                Yes                      24.0                  B  \n",
       "496                 No                      12.0                  D  \n",
       "497                Yes                      24.0                  B  \n",
       "498                 No                      12.0                  D  \n",
       "499                Yes                      18.0                  C  \n",
       "\n",
       "[500 rows x 10 columns]"
      ]
     },
     "execution_count": 8,
     "metadata": {},
     "output_type": "execute_result"
    }
   ],
   "source": [
    "data"
   ]
  },
  {
   "cell_type": "code",
   "execution_count": 9,
   "id": "e7c866b6",
   "metadata": {},
   "outputs": [
    {
     "data": {
      "text/plain": [
       "C    235\n",
       "D    163\n",
       "B    102\n",
       "Name: Impact Score Grade, dtype: int64"
      ]
     },
     "execution_count": 9,
     "metadata": {},
     "output_type": "execute_result"
    }
   ],
   "source": [
    "data['Impact Score Grade'].value_counts()"
   ]
  },
  {
   "cell_type": "code",
   "execution_count": 10,
   "id": "ef3f1038",
   "metadata": {},
   "outputs": [
    {
     "data": {
      "text/plain": [
       "Recycled Polyester    93\n",
       "Tencel                86\n",
       "Bamboo Fabric         85\n",
       "Hemp                  84\n",
       "Vegan Leather         83\n",
       "Organic Cotton        69\n",
       "Name: Material_Type, dtype: int64"
      ]
     },
     "execution_count": 10,
     "metadata": {},
     "output_type": "execute_result"
    }
   ],
   "source": [
    "data['Material_Type'].value_counts()"
   ]
  },
  {
   "cell_type": "code",
   "execution_count": 11,
   "id": "0e75353c",
   "metadata": {},
   "outputs": [],
   "source": [
    "label_encoder_Material_Type = LabelEncoder()\n",
    "data['Material_Type_num'] = label_encoder_Material_Type.fit_transform(data['Material_Type'])"
   ]
  },
  {
   "cell_type": "code",
   "execution_count": 12,
   "id": "a74cedaa",
   "metadata": {},
   "outputs": [
    {
     "data": {
      "text/plain": [
       "No     252\n",
       "Yes    248\n",
       "Name: Eco_Friendly_Manufacturing, dtype: int64"
      ]
     },
     "execution_count": 12,
     "metadata": {},
     "output_type": "execute_result"
    }
   ],
   "source": [
    "data['Eco_Friendly_Manufacturing'].value_counts()"
   ]
  },
  {
   "cell_type": "code",
   "execution_count": 13,
   "id": "04ad850d",
   "metadata": {},
   "outputs": [],
   "source": [
    "data['Eco_Friendly_Manufacturing']=data['Eco_Friendly_Manufacturing'].str.replace('Yes','1')\n",
    "data['Eco_Friendly_Manufacturing']=data['Eco_Friendly_Manufacturing'].str.replace('No','0')"
   ]
  },
  {
   "cell_type": "code",
   "execution_count": 14,
   "id": "03340303",
   "metadata": {},
   "outputs": [
    {
     "data": {
      "text/plain": [
       "Yes    253\n",
       "No     247\n",
       "Name: Recycling_Programs, dtype: int64"
      ]
     },
     "execution_count": 14,
     "metadata": {},
     "output_type": "execute_result"
    }
   ],
   "source": [
    "data['Recycling_Programs'].value_counts()"
   ]
  },
  {
   "cell_type": "code",
   "execution_count": 15,
   "id": "dded1adf",
   "metadata": {},
   "outputs": [],
   "source": [
    "data['Recycling_Programs']=data['Recycling_Programs'].str.replace('Yes','1')\n",
    "data['Recycling_Programs']=data['Recycling_Programs'].str.replace('No','0')"
   ]
  },
  {
   "cell_type": "code",
   "execution_count": 16,
   "id": "b3376839",
   "metadata": {},
   "outputs": [
    {
     "data": {
      "text/html": [
       "<div>\n",
       "<style scoped>\n",
       "    .dataframe tbody tr th:only-of-type {\n",
       "        vertical-align: middle;\n",
       "    }\n",
       "\n",
       "    .dataframe tbody tr th {\n",
       "        vertical-align: top;\n",
       "    }\n",
       "\n",
       "    .dataframe thead th {\n",
       "        text-align: right;\n",
       "    }\n",
       "</style>\n",
       "<table border=\"1\" class=\"dataframe\">\n",
       "  <thead>\n",
       "    <tr style=\"text-align: right;\">\n",
       "      <th></th>\n",
       "      <th>Brand_ID</th>\n",
       "      <th>Brand_Name</th>\n",
       "      <th>Material_Type</th>\n",
       "      <th>Eco_Friendly_Manufacturing</th>\n",
       "      <th>Carbon_Footprint_MT</th>\n",
       "      <th>Water_Usage_Liters</th>\n",
       "      <th>Waste_Production_KG</th>\n",
       "      <th>Recycling_Programs</th>\n",
       "      <th>Impact Score (out of 30)</th>\n",
       "      <th>Impact Score Grade</th>\n",
       "      <th>Material_Type_num</th>\n",
       "    </tr>\n",
       "  </thead>\n",
       "  <tbody>\n",
       "    <tr>\n",
       "      <th>0</th>\n",
       "      <td>BRAND-0001</td>\n",
       "      <td>Brand_1</td>\n",
       "      <td>Tencel</td>\n",
       "      <td>0</td>\n",
       "      <td>1.75</td>\n",
       "      <td>4511152.79</td>\n",
       "      <td>97844.11</td>\n",
       "      <td>0</td>\n",
       "      <td>16.0</td>\n",
       "      <td>C</td>\n",
       "      <td>4</td>\n",
       "    </tr>\n",
       "    <tr>\n",
       "      <th>1</th>\n",
       "      <td>BRAND-0002</td>\n",
       "      <td>Brand_2</td>\n",
       "      <td>Vegan Leather</td>\n",
       "      <td>1</td>\n",
       "      <td>124.39</td>\n",
       "      <td>1951566.31</td>\n",
       "      <td>37267.75</td>\n",
       "      <td>0</td>\n",
       "      <td>16.0</td>\n",
       "      <td>C</td>\n",
       "      <td>5</td>\n",
       "    </tr>\n",
       "    <tr>\n",
       "      <th>2</th>\n",
       "      <td>BRAND-0003</td>\n",
       "      <td>Brand_3</td>\n",
       "      <td>Vegan Leather</td>\n",
       "      <td>0</td>\n",
       "      <td>336.66</td>\n",
       "      <td>467454.52</td>\n",
       "      <td>38385.92</td>\n",
       "      <td>0</td>\n",
       "      <td>18.0</td>\n",
       "      <td>C</td>\n",
       "      <td>5</td>\n",
       "    </tr>\n",
       "    <tr>\n",
       "      <th>3</th>\n",
       "      <td>BRAND-0004</td>\n",
       "      <td>Brand_4</td>\n",
       "      <td>Bamboo Fabric</td>\n",
       "      <td>0</td>\n",
       "      <td>152.04</td>\n",
       "      <td>899576.90</td>\n",
       "      <td>32665.45</td>\n",
       "      <td>0</td>\n",
       "      <td>18.0</td>\n",
       "      <td>C</td>\n",
       "      <td>0</td>\n",
       "    </tr>\n",
       "    <tr>\n",
       "      <th>4</th>\n",
       "      <td>BRAND-0005</td>\n",
       "      <td>Brand_5</td>\n",
       "      <td>Bamboo Fabric</td>\n",
       "      <td>1</td>\n",
       "      <td>415.63</td>\n",
       "      <td>1809219.90</td>\n",
       "      <td>37295.47</td>\n",
       "      <td>1</td>\n",
       "      <td>22.0</td>\n",
       "      <td>B</td>\n",
       "      <td>0</td>\n",
       "    </tr>\n",
       "    <tr>\n",
       "      <th>...</th>\n",
       "      <td>...</td>\n",
       "      <td>...</td>\n",
       "      <td>...</td>\n",
       "      <td>...</td>\n",
       "      <td>...</td>\n",
       "      <td>...</td>\n",
       "      <td>...</td>\n",
       "      <td>...</td>\n",
       "      <td>...</td>\n",
       "      <td>...</td>\n",
       "      <td>...</td>\n",
       "    </tr>\n",
       "    <tr>\n",
       "      <th>495</th>\n",
       "      <td>BRAND-0496</td>\n",
       "      <td>Brand_496</td>\n",
       "      <td>Bamboo Fabric</td>\n",
       "      <td>1</td>\n",
       "      <td>456.03</td>\n",
       "      <td>260365.03</td>\n",
       "      <td>80547.15</td>\n",
       "      <td>1</td>\n",
       "      <td>24.0</td>\n",
       "      <td>B</td>\n",
       "      <td>0</td>\n",
       "    </tr>\n",
       "    <tr>\n",
       "      <th>496</th>\n",
       "      <td>BRAND-0497</td>\n",
       "      <td>Brand_497</td>\n",
       "      <td>Bamboo Fabric</td>\n",
       "      <td>0</td>\n",
       "      <td>61.01</td>\n",
       "      <td>4734444.74</td>\n",
       "      <td>61359.80</td>\n",
       "      <td>0</td>\n",
       "      <td>12.0</td>\n",
       "      <td>D</td>\n",
       "      <td>0</td>\n",
       "    </tr>\n",
       "    <tr>\n",
       "      <th>497</th>\n",
       "      <td>BRAND-0498</td>\n",
       "      <td>Brand_498</td>\n",
       "      <td>Bamboo Fabric</td>\n",
       "      <td>1</td>\n",
       "      <td>59.48</td>\n",
       "      <td>981356.74</td>\n",
       "      <td>61728.06</td>\n",
       "      <td>1</td>\n",
       "      <td>24.0</td>\n",
       "      <td>B</td>\n",
       "      <td>0</td>\n",
       "    </tr>\n",
       "    <tr>\n",
       "      <th>498</th>\n",
       "      <td>BRAND-0499</td>\n",
       "      <td>Brand_499</td>\n",
       "      <td>Organic Cotton</td>\n",
       "      <td>0</td>\n",
       "      <td>145.76</td>\n",
       "      <td>3980832.39</td>\n",
       "      <td>63411.32</td>\n",
       "      <td>0</td>\n",
       "      <td>12.0</td>\n",
       "      <td>D</td>\n",
       "      <td>2</td>\n",
       "    </tr>\n",
       "    <tr>\n",
       "      <th>499</th>\n",
       "      <td>BRAND-0500</td>\n",
       "      <td>Brand_500</td>\n",
       "      <td>Organic Cotton</td>\n",
       "      <td>1</td>\n",
       "      <td>308.83</td>\n",
       "      <td>4344935.25</td>\n",
       "      <td>36852.24</td>\n",
       "      <td>1</td>\n",
       "      <td>18.0</td>\n",
       "      <td>C</td>\n",
       "      <td>2</td>\n",
       "    </tr>\n",
       "  </tbody>\n",
       "</table>\n",
       "<p>500 rows × 11 columns</p>\n",
       "</div>"
      ],
      "text/plain": [
       "       Brand_ID Brand_Name   Material_Type Eco_Friendly_Manufacturing  \\\n",
       "0    BRAND-0001    Brand_1          Tencel                          0   \n",
       "1    BRAND-0002    Brand_2   Vegan Leather                          1   \n",
       "2    BRAND-0003    Brand_3   Vegan Leather                          0   \n",
       "3    BRAND-0004    Brand_4   Bamboo Fabric                          0   \n",
       "4    BRAND-0005    Brand_5   Bamboo Fabric                          1   \n",
       "..          ...        ...             ...                        ...   \n",
       "495  BRAND-0496  Brand_496   Bamboo Fabric                          1   \n",
       "496  BRAND-0497  Brand_497   Bamboo Fabric                          0   \n",
       "497  BRAND-0498  Brand_498   Bamboo Fabric                          1   \n",
       "498  BRAND-0499  Brand_499  Organic Cotton                          0   \n",
       "499  BRAND-0500  Brand_500  Organic Cotton                          1   \n",
       "\n",
       "     Carbon_Footprint_MT  Water_Usage_Liters  Waste_Production_KG  \\\n",
       "0                   1.75          4511152.79             97844.11   \n",
       "1                 124.39          1951566.31             37267.75   \n",
       "2                 336.66           467454.52             38385.92   \n",
       "3                 152.04           899576.90             32665.45   \n",
       "4                 415.63          1809219.90             37295.47   \n",
       "..                   ...                 ...                  ...   \n",
       "495               456.03           260365.03             80547.15   \n",
       "496                61.01          4734444.74             61359.80   \n",
       "497                59.48           981356.74             61728.06   \n",
       "498               145.76          3980832.39             63411.32   \n",
       "499               308.83          4344935.25             36852.24   \n",
       "\n",
       "    Recycling_Programs  Impact Score (out of 30) Impact Score Grade  \\\n",
       "0                    0                      16.0                  C   \n",
       "1                    0                      16.0                  C   \n",
       "2                    0                      18.0                  C   \n",
       "3                    0                      18.0                  C   \n",
       "4                    1                      22.0                  B   \n",
       "..                 ...                       ...                ...   \n",
       "495                  1                      24.0                  B   \n",
       "496                  0                      12.0                  D   \n",
       "497                  1                      24.0                  B   \n",
       "498                  0                      12.0                  D   \n",
       "499                  1                      18.0                  C   \n",
       "\n",
       "     Material_Type_num  \n",
       "0                    4  \n",
       "1                    5  \n",
       "2                    5  \n",
       "3                    0  \n",
       "4                    0  \n",
       "..                 ...  \n",
       "495                  0  \n",
       "496                  0  \n",
       "497                  0  \n",
       "498                  2  \n",
       "499                  2  \n",
       "\n",
       "[500 rows x 11 columns]"
      ]
     },
     "execution_count": 16,
     "metadata": {},
     "output_type": "execute_result"
    }
   ],
   "source": [
    "data"
   ]
  },
  {
   "cell_type": "code",
   "execution_count": 17,
   "id": "96044930",
   "metadata": {},
   "outputs": [
    {
     "name": "stdout",
     "output_type": "stream",
     "text": [
      "<class 'pandas.core.frame.DataFrame'>\n",
      "Int64Index: 500 entries, 0 to 499\n",
      "Data columns (total 11 columns):\n",
      " #   Column                      Non-Null Count  Dtype  \n",
      "---  ------                      --------------  -----  \n",
      " 0   Brand_ID                    500 non-null    object \n",
      " 1   Brand_Name                  500 non-null    object \n",
      " 2   Material_Type               500 non-null    object \n",
      " 3   Eco_Friendly_Manufacturing  500 non-null    object \n",
      " 4   Carbon_Footprint_MT         500 non-null    float64\n",
      " 5   Water_Usage_Liters          500 non-null    float64\n",
      " 6   Waste_Production_KG         500 non-null    float64\n",
      " 7   Recycling_Programs          500 non-null    object \n",
      " 8   Impact Score (out of 30)    500 non-null    float64\n",
      " 9   Impact Score Grade          500 non-null    object \n",
      " 10  Material_Type_num           500 non-null    int32  \n",
      "dtypes: float64(4), int32(1), object(6)\n",
      "memory usage: 44.9+ KB\n"
     ]
    }
   ],
   "source": [
    "data.info()"
   ]
  },
  {
   "cell_type": "code",
   "execution_count": 18,
   "id": "a5986907",
   "metadata": {},
   "outputs": [],
   "source": [
    "data['Eco_Friendly_Manufacturing'] = data['Eco_Friendly_Manufacturing'].astype(int)\n",
    "data['Recycling_Programs'] = data['Recycling_Programs'].astype(int)"
   ]
  },
  {
   "cell_type": "code",
   "execution_count": 19,
   "id": "bb9b24a1",
   "metadata": {},
   "outputs": [
    {
     "name": "stdout",
     "output_type": "stream",
     "text": [
      "<class 'pandas.core.frame.DataFrame'>\n",
      "Int64Index: 500 entries, 0 to 499\n",
      "Data columns (total 11 columns):\n",
      " #   Column                      Non-Null Count  Dtype  \n",
      "---  ------                      --------------  -----  \n",
      " 0   Brand_ID                    500 non-null    object \n",
      " 1   Brand_Name                  500 non-null    object \n",
      " 2   Material_Type               500 non-null    object \n",
      " 3   Eco_Friendly_Manufacturing  500 non-null    int32  \n",
      " 4   Carbon_Footprint_MT         500 non-null    float64\n",
      " 5   Water_Usage_Liters          500 non-null    float64\n",
      " 6   Waste_Production_KG         500 non-null    float64\n",
      " 7   Recycling_Programs          500 non-null    int32  \n",
      " 8   Impact Score (out of 30)    500 non-null    float64\n",
      " 9   Impact Score Grade          500 non-null    object \n",
      " 10  Material_Type_num           500 non-null    int32  \n",
      "dtypes: float64(4), int32(3), object(4)\n",
      "memory usage: 41.0+ KB\n"
     ]
    }
   ],
   "source": [
    "data.info()"
   ]
  },
  {
   "cell_type": "code",
   "execution_count": 20,
   "id": "73977f57",
   "metadata": {},
   "outputs": [],
   "source": [
    "X = data[['Material_Type_num','Eco_Friendly_Manufacturing','Carbon_Footprint_MT','Water_Usage_Liters','Waste_Production_KG','Recycling_Programs']]\n",
    "y = data['Impact Score (out of 30)']"
   ]
  },
  {
   "cell_type": "code",
   "execution_count": 21,
   "id": "96538921",
   "metadata": {},
   "outputs": [],
   "source": [
    "from sklearn.svm import SVR\n",
    "from sklearn.model_selection import train_test_split\n",
    "from sklearn.preprocessing import StandardScaler\n",
    "from sklearn.metrics import mean_squared_error\n",
    "\n",
    "X_train, X_test, y_train, y_test = train_test_split(X, y, test_size=0.25, random_state=42)"
   ]
  },
  {
   "cell_type": "code",
   "execution_count": 22,
   "id": "5f07f354",
   "metadata": {},
   "outputs": [],
   "source": [
    "def model_score(model):\n",
    "    model.fit(X_train, y_train)\n",
    "    acc = model.score(X_test, y_test)\n",
    "    print(str(model)+ ' | ' +str(acc))"
   ]
  },
  {
   "cell_type": "code",
   "execution_count": 23,
   "id": "46b33529",
   "metadata": {},
   "outputs": [
    {
     "name": "stdout",
     "output_type": "stream",
     "text": [
      "RandomForestRegressor() | 0.9915775972637879\n",
      "KNeighborsClassifier(n_neighbors=3) | 0.512\n",
      "Lasso() | 0.7164425997654246\n",
      "DecisionTreeRegressor() | 0.991778208965041\n",
      "Ridge() | 0.9564255469189995\n"
     ]
    }
   ],
   "source": [
    "from sklearn.ensemble import RandomForestRegressor\n",
    "rf = RandomForestRegressor()\n",
    "model_score(rf)\n",
    "\n",
    "from sklearn.neighbors import KNeighborsClassifier\n",
    "knn = KNeighborsClassifier(n_neighbors=3)\n",
    "model_score(knn)\n",
    "\n",
    "from sklearn.linear_model import Lasso\n",
    "lasso = Lasso()\n",
    "model_score(lasso)\n",
    "\n",
    "from sklearn.tree import DecisionTreeRegressor\n",
    "dt = DecisionTreeRegressor()\n",
    "model_score(dt)\n",
    "\n",
    "from sklearn.linear_model import Ridge\n",
    "ridge_regression = Ridge()\n",
    "model_score(ridge_regression)"
   ]
  },
  {
   "cell_type": "code",
   "execution_count": 24,
   "id": "f60ae232",
   "metadata": {},
   "outputs": [],
   "source": [
    "y_pred=dt.predict(X_test)"
   ]
  },
  {
   "cell_type": "code",
   "execution_count": 25,
   "id": "a1562584",
   "metadata": {},
   "outputs": [
    {
     "name": "stdout",
     "output_type": "stream",
     "text": [
      "Accuracy: 99.20%\n"
     ]
    }
   ],
   "source": [
    "from sklearn.metrics import accuracy_score, classification_report, confusion_matrix\n",
    "\n",
    "accuracy = accuracy_score(y_test, y_pred)\n",
    "print(f\"Accuracy: {accuracy * 100:.2f}%\")"
   ]
  },
  {
   "cell_type": "code",
   "execution_count": 26,
   "id": "2ba85a18",
   "metadata": {},
   "outputs": [
    {
     "name": "stdout",
     "output_type": "stream",
     "text": [
      "              precision    recall  f1-score   support\n",
      "\n",
      "        12.0       0.96      1.00      0.98        25\n",
      "        14.0       1.00      1.00      1.00        17\n",
      "        16.0       1.00      0.93      0.97        15\n",
      "        18.0       1.00      1.00      1.00        31\n",
      "        20.0       1.00      1.00      1.00         8\n",
      "        22.0       1.00      1.00      1.00        15\n",
      "        24.0       1.00      1.00      1.00        14\n",
      "\n",
      "    accuracy                           0.99       125\n",
      "   macro avg       0.99      0.99      0.99       125\n",
      "weighted avg       0.99      0.99      0.99       125\n",
      "\n"
     ]
    }
   ],
   "source": [
    "print(classification_report(y_test, y_pred))"
   ]
  },
  {
   "cell_type": "code",
   "execution_count": 27,
   "id": "4ff592e3",
   "metadata": {},
   "outputs": [
    {
     "data": {
      "text/plain": [
       "array([[25,  0,  0,  0,  0,  0,  0],\n",
       "       [ 0, 17,  0,  0,  0,  0,  0],\n",
       "       [ 1,  0, 14,  0,  0,  0,  0],\n",
       "       [ 0,  0,  0, 31,  0,  0,  0],\n",
       "       [ 0,  0,  0,  0,  8,  0,  0],\n",
       "       [ 0,  0,  0,  0,  0, 15,  0],\n",
       "       [ 0,  0,  0,  0,  0,  0, 14]], dtype=int64)"
      ]
     },
     "execution_count": 27,
     "metadata": {},
     "output_type": "execute_result"
    }
   ],
   "source": [
    "confusion_matrix(y_test, y_pred)"
   ]
  },
  {
   "cell_type": "code",
   "execution_count": 28,
   "id": "e7c6e24c",
   "metadata": {},
   "outputs": [],
   "source": [
    "y_pred = dt.predict(X_test)"
   ]
  },
  {
   "cell_type": "code",
   "execution_count": 29,
   "id": "f98e5fbb",
   "metadata": {},
   "outputs": [
    {
     "data": {
      "text/html": [
       "<div>\n",
       "<style scoped>\n",
       "    .dataframe tbody tr th:only-of-type {\n",
       "        vertical-align: middle;\n",
       "    }\n",
       "\n",
       "    .dataframe tbody tr th {\n",
       "        vertical-align: top;\n",
       "    }\n",
       "\n",
       "    .dataframe thead th {\n",
       "        text-align: right;\n",
       "    }\n",
       "</style>\n",
       "<table border=\"1\" class=\"dataframe\">\n",
       "  <thead>\n",
       "    <tr style=\"text-align: right;\">\n",
       "      <th></th>\n",
       "      <th>Material_Type_num</th>\n",
       "      <th>Eco_Friendly_Manufacturing</th>\n",
       "      <th>Carbon_Footprint_MT</th>\n",
       "      <th>Water_Usage_Liters</th>\n",
       "      <th>Waste_Production_KG</th>\n",
       "      <th>Recycling_Programs</th>\n",
       "      <th>Impact Score (out of 30)</th>\n",
       "    </tr>\n",
       "  </thead>\n",
       "  <tbody>\n",
       "    <tr>\n",
       "      <th>0</th>\n",
       "      <td>4</td>\n",
       "      <td>0</td>\n",
       "      <td>1.75</td>\n",
       "      <td>4511152.79</td>\n",
       "      <td>97844.11</td>\n",
       "      <td>0</td>\n",
       "      <td>16.0</td>\n",
       "    </tr>\n",
       "    <tr>\n",
       "      <th>1</th>\n",
       "      <td>5</td>\n",
       "      <td>1</td>\n",
       "      <td>124.39</td>\n",
       "      <td>1951566.31</td>\n",
       "      <td>37267.75</td>\n",
       "      <td>0</td>\n",
       "      <td>16.0</td>\n",
       "    </tr>\n",
       "    <tr>\n",
       "      <th>2</th>\n",
       "      <td>5</td>\n",
       "      <td>0</td>\n",
       "      <td>336.66</td>\n",
       "      <td>467454.52</td>\n",
       "      <td>38385.92</td>\n",
       "      <td>0</td>\n",
       "      <td>18.0</td>\n",
       "    </tr>\n",
       "    <tr>\n",
       "      <th>3</th>\n",
       "      <td>0</td>\n",
       "      <td>0</td>\n",
       "      <td>152.04</td>\n",
       "      <td>899576.90</td>\n",
       "      <td>32665.45</td>\n",
       "      <td>0</td>\n",
       "      <td>18.0</td>\n",
       "    </tr>\n",
       "    <tr>\n",
       "      <th>4</th>\n",
       "      <td>0</td>\n",
       "      <td>1</td>\n",
       "      <td>415.63</td>\n",
       "      <td>1809219.90</td>\n",
       "      <td>37295.47</td>\n",
       "      <td>1</td>\n",
       "      <td>22.0</td>\n",
       "    </tr>\n",
       "    <tr>\n",
       "      <th>...</th>\n",
       "      <td>...</td>\n",
       "      <td>...</td>\n",
       "      <td>...</td>\n",
       "      <td>...</td>\n",
       "      <td>...</td>\n",
       "      <td>...</td>\n",
       "      <td>...</td>\n",
       "    </tr>\n",
       "    <tr>\n",
       "      <th>495</th>\n",
       "      <td>0</td>\n",
       "      <td>1</td>\n",
       "      <td>456.03</td>\n",
       "      <td>260365.03</td>\n",
       "      <td>80547.15</td>\n",
       "      <td>1</td>\n",
       "      <td>24.0</td>\n",
       "    </tr>\n",
       "    <tr>\n",
       "      <th>496</th>\n",
       "      <td>0</td>\n",
       "      <td>0</td>\n",
       "      <td>61.01</td>\n",
       "      <td>4734444.74</td>\n",
       "      <td>61359.80</td>\n",
       "      <td>0</td>\n",
       "      <td>12.0</td>\n",
       "    </tr>\n",
       "    <tr>\n",
       "      <th>497</th>\n",
       "      <td>0</td>\n",
       "      <td>1</td>\n",
       "      <td>59.48</td>\n",
       "      <td>981356.74</td>\n",
       "      <td>61728.06</td>\n",
       "      <td>1</td>\n",
       "      <td>24.0</td>\n",
       "    </tr>\n",
       "    <tr>\n",
       "      <th>498</th>\n",
       "      <td>2</td>\n",
       "      <td>0</td>\n",
       "      <td>145.76</td>\n",
       "      <td>3980832.39</td>\n",
       "      <td>63411.32</td>\n",
       "      <td>0</td>\n",
       "      <td>12.0</td>\n",
       "    </tr>\n",
       "    <tr>\n",
       "      <th>499</th>\n",
       "      <td>2</td>\n",
       "      <td>1</td>\n",
       "      <td>308.83</td>\n",
       "      <td>4344935.25</td>\n",
       "      <td>36852.24</td>\n",
       "      <td>1</td>\n",
       "      <td>18.0</td>\n",
       "    </tr>\n",
       "  </tbody>\n",
       "</table>\n",
       "<p>500 rows × 7 columns</p>\n",
       "</div>"
      ],
      "text/plain": [
       "     Material_Type_num  Eco_Friendly_Manufacturing  Carbon_Footprint_MT  \\\n",
       "0                    4                           0                 1.75   \n",
       "1                    5                           1               124.39   \n",
       "2                    5                           0               336.66   \n",
       "3                    0                           0               152.04   \n",
       "4                    0                           1               415.63   \n",
       "..                 ...                         ...                  ...   \n",
       "495                  0                           1               456.03   \n",
       "496                  0                           0                61.01   \n",
       "497                  0                           1                59.48   \n",
       "498                  2                           0               145.76   \n",
       "499                  2                           1               308.83   \n",
       "\n",
       "     Water_Usage_Liters  Waste_Production_KG  Recycling_Programs  \\\n",
       "0            4511152.79             97844.11                   0   \n",
       "1            1951566.31             37267.75                   0   \n",
       "2             467454.52             38385.92                   0   \n",
       "3             899576.90             32665.45                   0   \n",
       "4            1809219.90             37295.47                   1   \n",
       "..                  ...                  ...                 ...   \n",
       "495           260365.03             80547.15                   1   \n",
       "496          4734444.74             61359.80                   0   \n",
       "497           981356.74             61728.06                   1   \n",
       "498          3980832.39             63411.32                   0   \n",
       "499          4344935.25             36852.24                   1   \n",
       "\n",
       "     Impact Score (out of 30)  \n",
       "0                        16.0  \n",
       "1                        16.0  \n",
       "2                        18.0  \n",
       "3                        18.0  \n",
       "4                        22.0  \n",
       "..                        ...  \n",
       "495                      24.0  \n",
       "496                      12.0  \n",
       "497                      24.0  \n",
       "498                      12.0  \n",
       "499                      18.0  \n",
       "\n",
       "[500 rows x 7 columns]"
      ]
     },
     "execution_count": 29,
     "metadata": {},
     "output_type": "execute_result"
    }
   ],
   "source": [
    "data[['Material_Type_num','Eco_Friendly_Manufacturing','Carbon_Footprint_MT','Water_Usage_Liters','Waste_Production_KG','Recycling_Programs','Impact Score (out of 30)']]"
   ]
  },
  {
   "cell_type": "code",
   "execution_count": 30,
   "id": "ea3266e0",
   "metadata": {},
   "outputs": [],
   "source": [
    "import pickle\n",
    "# save model to file\n",
    "pickle.dump(dt, open(\"model.dat\", \"wb\"))"
   ]
  },
  {
   "cell_type": "code",
   "execution_count": 31,
   "id": "c913fd0d",
   "metadata": {},
   "outputs": [],
   "source": [
    "predict=rf.predict(X_test)"
   ]
  },
  {
   "cell_type": "code",
   "execution_count": 32,
   "id": "86e56624",
   "metadata": {},
   "outputs": [
    {
     "name": "stdout",
     "output_type": "stream",
     "text": [
      "<class 'numpy.ndarray'>\n",
      "<class 'pandas.core.series.Series'>\n"
     ]
    },
    {
     "data": {
      "image/png": "[encoded data removed]",
      "text/plain": [
       "<Figure size 1600x500 with 1 Axes>"
      ]
     },
     "metadata": {},
     "output_type": "display_data"
    }
   ],
   "source": [
    "A = np.array(y_test)\n",
    "B = predict\n",
    "print(type(predict))\n",
    "print(type(y_test))\n",
    "plt.rcParams['figure.figsize'] = 16,5\n",
    "plt.figure()\n",
    "plt.plot(A[-100:], label=\"Real\")\n",
    "plt.plot(B[-100:], label=\"Predicted\")\n",
    "plt.legend()\n",
    "plt.title(\"Result : real vs predicted\")\n",
    "plt.ylabel(\"Result\")\n",
    "plt.xticks(())\n",
    "plt.show()"
   ]
  },
  {
   "cell_type": "code",
   "execution_count": 33,
   "id": "fcd920d4",
   "metadata": {},
   "outputs": [],
   "source": [
    "with open('model.dat' , 'rb') as f:\n",
    "    model = pickle.load(f)"
   ]
  },
  {
   "cell_type": "code",
   "execution_count": 34,
   "id": "d236207d",
   "metadata": {},
   "outputs": [
    {
     "name": "stderr",
     "output_type": "stream",
     "text": [
      "C:\\Users\\Kalana\\anaconda3\\lib\\site-packages\\sklearn\\base.py:420: UserWarning: X does not have valid feature names, but DecisionTreeRegressor was fitted with feature names\n",
      "  warnings.warn(\n"
     ]
    },
    {
     "data": {
      "text/plain": [
       "12.0"
      ]
     },
     "execution_count": 34,
     "metadata": {},
     "output_type": "execute_result"
    }
   ],
   "source": [
    "model.predict([[4,0,1.75,4511152.79,97844.11,0]])[0]"
   ]
  },
  {
   "cell_type": "code",
   "execution_count": 40,
   "id": "f1738bf6",
   "metadata": {},
   "outputs": [
    {
     "data": {
      "application/vnd.jupyter.widget-view+json": {
       "model_id": "611ee1dd788f4a9aad75a543d21de324",
       "version_major": 2,
       "version_minor": 0
      },
      "text/plain": [
       "Dropdown(description='Material Type:', options=(1, 2, 3, 4, 5), value=1)"
      ]
     },
     "metadata": {},
     "output_type": "display_data"
    },
    {
     "data": {
      "application/vnd.jupyter.widget-view+json": {
       "model_id": "9a9c5f6783624bc6b871416f2f540820",
       "version_major": 2,
       "version_minor": 0
      },
      "text/plain": [
       "Dropdown(description='Eco Friendly Manufacturing:', options=(1, 0), value=1)"
      ]
     },
     "metadata": {},
     "output_type": "display_data"
    },
    {
     "data": {
      "application/vnd.jupyter.widget-view+json": {
       "model_id": "371cd5845c394b82874eda378fcb87eb",
       "version_major": 2,
       "version_minor": 0
      },
      "text/plain": [
       "IntText(value=10, description='Carbon Footprint (MT):')"
      ]
     },
     "metadata": {},
     "output_type": "display_data"
    },
    {
     "data": {
      "application/vnd.jupyter.widget-view+json": {
       "model_id": "88c24bd947f845f88e8141427d235ec0",
       "version_major": 2,
       "version_minor": 0
      },
      "text/plain": [
       "IntText(value=500, description='Water Usage (Liters):')"
      ]
     },
     "metadata": {},
     "output_type": "display_data"
    },
    {
     "data": {
      "application/vnd.jupyter.widget-view+json": {
       "model_id": "0bd3c03b993a41229c8d80fb3afe41bb",
       "version_major": 2,
       "version_minor": 0
      },
      "text/plain": [
       "IntText(value=100, description='Waste Production (KG):')"
      ]
     },
     "metadata": {},
     "output_type": "display_data"
    },
    {
     "data": {
      "application/vnd.jupyter.widget-view+json": {
       "model_id": "d7e984946ddf41d99a976682ec83b2f7",
       "version_major": 2,
       "version_minor": 0
      },
      "text/plain": [
       "Dropdown(description='Recycling Programs:', options=(1, 0), value=1)"
      ]
     },
     "metadata": {},
     "output_type": "display_data"
    },
    {
     "data": {
      "application/vnd.jupyter.widget-view+json": {
       "model_id": "2ff9b87909ed41ffa58c9138829df7dc",
       "version_major": 2,
       "version_minor": 0
      },
      "text/plain": [
       "Button(description='Predict', style=ButtonStyle())"
      ]
     },
     "metadata": {},
     "output_type": "display_data"
    },
    {
     "data": {
      "application/vnd.jupyter.widget-view+json": {
       "model_id": "397a305e5969432b8b0a34fbc3b3a0bb",
       "version_major": 2,
       "version_minor": 0
      },
      "text/plain": [
       "Output()"
      ]
     },
     "metadata": {},
     "output_type": "display_data"
    },
    {
     "name": "stderr",
     "output_type": "stream",
     "text": [
      "C:\\Users\\Kalana\\anaconda3\\lib\\site-packages\\sklearn\\base.py:420: UserWarning: X does not have valid feature names, but DecisionTreeRegressor was fitted with feature names\n",
      "  warnings.warn(\n"
     ]
    }
   ],
   "source": [
    "material_type_widget = widgets.Dropdown(options=[1, 2, 3, 4, 5], description='Material Type:')\n",
    "eco_friendly_widget = widgets.Dropdown(options=[1, 0], description='Eco Friendly Manufacturing:')\n",
    "carbon_footprint_widget = widgets.IntText(value=10, description='Carbon Footprint (MT):', min=1, max=100)\n",
    "water_usage_widget = widgets.IntText(value=500, description='Water Usage (Liters):', min=1, max=10000)\n",
    "waste_production_widget = widgets.IntText(value=100, description='Waste Production (KG):', min=1, max=10000)\n",
    "recycling_programs_widget = widgets.Dropdown(options=[1, 0], description='Recycling Programs:')\n",
    "\n",
    "predict_button = widgets.Button(description=\"Predict\")\n",
    "\n",
    "output = widgets.Output()\n",
    "\n",
    "def predict_with_user_input(material_type, eco_friendly, carbon_footprint, water_usage, waste_production, recycling_programs):\n",
    "    \n",
    "    prediction = model.predict([[material_type, eco_friendly, carbon_footprint, water_usage, waste_production, recycling_programs]])[0]\n",
    "    \n",
    "    with output:\n",
    "        print(f'Predicted Overall Satisfaction: {prediction[0]}')\n",
    "\n",
    "def on_predict_button_click(b):\n",
    "    predict_with_user_input(\n",
    "        material_type=material_type_widget.value,\n",
    "        eco_friendly=eco_friendly_widget.value,\n",
    "        carbon_footprint=carbon_footprint_widget.value,\n",
    "        water_usage=water_usage_widget.value,\n",
    "        waste_production=waste_production_widget.value,\n",
    "        recycling_programs=recycling_programs_widget.value\n",
    "    )\n",
    "\n",
    "predict_button.on_click(on_predict_button_click)\n",
    "\n",
    "display(material_type_widget, eco_friendly_widget, carbon_footprint_widget, water_usage_widget,\n",
    "        waste_production_widget, recycling_programs_widget, predict_button, output)"
   ]
  },
  {
   "cell_type": "code",
   "execution_count": null,
   "id": "1a457004",
   "metadata": {},
   "outputs": [],
   "source": []
  }
 ],
 "metadata": {
  "kernelspec": {
   "display_name": "Python 3 (ipykernel)",
   "language": "python",
   "name": "python3"
  },
  "language_info": {
   "codemirror_mode": {
    "name": "ipython",
    "version": 3
   },
   "file_extension": ".py",
   "mimetype": "text/x-python",
   "name": "python",
   "nbconvert_exporter": "python",
   "pygments_lexer": "ipython3",
   "version": "3.10.9"
  }
 },
 "nbformat": 4,
 "nbformat_minor": 5
}
