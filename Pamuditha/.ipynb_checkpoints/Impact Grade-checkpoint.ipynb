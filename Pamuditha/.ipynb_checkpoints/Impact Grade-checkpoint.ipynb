{
 "cells": [
  {
   "cell_type": "code",
   "execution_count": 1,
   "id": "f0db3627",
   "metadata": {},
   "outputs": [],
   "source": [
    "import numpy as np\n",
    "import pandas as pd\n",
    "import matplotlib.pyplot as plt\n",
    "import seaborn as sns\n",
    "from sklearn.preprocessing import LabelEncoder"
   ]
  },
  {
   "cell_type": "code",
   "execution_count": 3,
   "id": "82aabd50",
   "metadata": {},
   "outputs": [],
   "source": [
    "data = pd.read_csv('modified_data1.csv', encoding='latin-1')"
   ]
  },
  {
   "cell_type": "code",
   "execution_count": 4,
   "id": "9142d978",
   "metadata": {},
   "outputs": [
    {
     "data": {
      "text/html": [
       "<div>\n",
       "<style scoped>\n",
       "    .dataframe tbody tr th:only-of-type {\n",
       "        vertical-align: middle;\n",
       "    }\n",
       "\n",
       "    .dataframe tbody tr th {\n",
       "        vertical-align: top;\n",
       "    }\n",
       "\n",
       "    .dataframe thead th {\n",
       "        text-align: right;\n",
       "    }\n",
       "</style>\n",
       "<table border=\"1\" class=\"dataframe\">\n",
       "  <thead>\n",
       "    <tr style=\"text-align: right;\">\n",
       "      <th></th>\n",
       "      <th>Brand_ID</th>\n",
       "      <th>Brand_Name</th>\n",
       "      <th>Material_Type</th>\n",
       "      <th>Eco_Friendly_Manufacturing</th>\n",
       "      <th>Carbon_Footprint_MT</th>\n",
       "      <th>Water_Usage_Liters</th>\n",
       "      <th>Waste_Production_KG</th>\n",
       "      <th>Recycling_Programs</th>\n",
       "      <th>Impact Score (out of 30)</th>\n",
       "      <th>Impact Score Grade</th>\n",
       "      <th>Unnamed: 10</th>\n",
       "      <th>Unnamed: 11</th>\n",
       "      <th>Unnamed: 12</th>\n",
       "      <th>Unnamed: 13</th>\n",
       "    </tr>\n",
       "  </thead>\n",
       "  <tbody>\n",
       "    <tr>\n",
       "      <th>0</th>\n",
       "      <td>BRAND-0001</td>\n",
       "      <td>Brand_1</td>\n",
       "      <td>Tencel</td>\n",
       "      <td>No</td>\n",
       "      <td>1.75</td>\n",
       "      <td>4511152.79</td>\n",
       "      <td>97844.11</td>\n",
       "      <td>No</td>\n",
       "      <td>16.0</td>\n",
       "      <td>C</td>\n",
       "      <td>NaN</td>\n",
       "      <td>NaN</td>\n",
       "      <td>NaN</td>\n",
       "      <td>NaN</td>\n",
       "    </tr>\n",
       "    <tr>\n",
       "      <th>1</th>\n",
       "      <td>BRAND-0002</td>\n",
       "      <td>Brand_2</td>\n",
       "      <td>Vegan Leather</td>\n",
       "      <td>Yes</td>\n",
       "      <td>124.39</td>\n",
       "      <td>1951566.31</td>\n",
       "      <td>37267.75</td>\n",
       "      <td>No</td>\n",
       "      <td>16.0</td>\n",
       "      <td>C</td>\n",
       "      <td>NaN</td>\n",
       "      <td>NaN</td>\n",
       "      <td>NaN</td>\n",
       "      <td>NaN</td>\n",
       "    </tr>\n",
       "    <tr>\n",
       "      <th>2</th>\n",
       "      <td>BRAND-0003</td>\n",
       "      <td>Brand_3</td>\n",
       "      <td>Vegan Leather</td>\n",
       "      <td>No</td>\n",
       "      <td>336.66</td>\n",
       "      <td>467454.52</td>\n",
       "      <td>38385.92</td>\n",
       "      <td>No</td>\n",
       "      <td>18.0</td>\n",
       "      <td>C</td>\n",
       "      <td>NaN</td>\n",
       "      <td>NaN</td>\n",
       "      <td>NaN</td>\n",
       "      <td>NaN</td>\n",
       "    </tr>\n",
       "    <tr>\n",
       "      <th>3</th>\n",
       "      <td>BRAND-0004</td>\n",
       "      <td>Brand_4</td>\n",
       "      <td>Bamboo Fabric</td>\n",
       "      <td>No</td>\n",
       "      <td>152.04</td>\n",
       "      <td>899576.90</td>\n",
       "      <td>32665.45</td>\n",
       "      <td>No</td>\n",
       "      <td>18.0</td>\n",
       "      <td>C</td>\n",
       "      <td>NaN</td>\n",
       "      <td>NaN</td>\n",
       "      <td>NaN</td>\n",
       "      <td>NaN</td>\n",
       "    </tr>\n",
       "    <tr>\n",
       "      <th>4</th>\n",
       "      <td>BRAND-0005</td>\n",
       "      <td>Brand_5</td>\n",
       "      <td>Bamboo Fabric</td>\n",
       "      <td>Yes</td>\n",
       "      <td>415.63</td>\n",
       "      <td>1809219.90</td>\n",
       "      <td>37295.47</td>\n",
       "      <td>Yes</td>\n",
       "      <td>22.0</td>\n",
       "      <td>B</td>\n",
       "      <td>NaN</td>\n",
       "      <td>NaN</td>\n",
       "      <td>NaN</td>\n",
       "      <td>NaN</td>\n",
       "    </tr>\n",
       "    <tr>\n",
       "      <th>...</th>\n",
       "      <td>...</td>\n",
       "      <td>...</td>\n",
       "      <td>...</td>\n",
       "      <td>...</td>\n",
       "      <td>...</td>\n",
       "      <td>...</td>\n",
       "      <td>...</td>\n",
       "      <td>...</td>\n",
       "      <td>...</td>\n",
       "      <td>...</td>\n",
       "      <td>...</td>\n",
       "      <td>...</td>\n",
       "      <td>...</td>\n",
       "      <td>...</td>\n",
       "    </tr>\n",
       "    <tr>\n",
       "      <th>994</th>\n",
       "      <td>NaN</td>\n",
       "      <td>NaN</td>\n",
       "      <td>NaN</td>\n",
       "      <td>NaN</td>\n",
       "      <td>NaN</td>\n",
       "      <td>NaN</td>\n",
       "      <td>NaN</td>\n",
       "      <td>NaN</td>\n",
       "      <td>NaN</td>\n",
       "      <td>NaN</td>\n",
       "      <td>NaN</td>\n",
       "      <td>NaN</td>\n",
       "      <td>NaN</td>\n",
       "      <td>NaN</td>\n",
       "    </tr>\n",
       "    <tr>\n",
       "      <th>995</th>\n",
       "      <td>NaN</td>\n",
       "      <td>NaN</td>\n",
       "      <td>NaN</td>\n",
       "      <td>NaN</td>\n",
       "      <td>NaN</td>\n",
       "      <td>NaN</td>\n",
       "      <td>NaN</td>\n",
       "      <td>NaN</td>\n",
       "      <td>NaN</td>\n",
       "      <td>NaN</td>\n",
       "      <td>NaN</td>\n",
       "      <td>NaN</td>\n",
       "      <td>NaN</td>\n",
       "      <td>NaN</td>\n",
       "    </tr>\n",
       "    <tr>\n",
       "      <th>996</th>\n",
       "      <td>NaN</td>\n",
       "      <td>NaN</td>\n",
       "      <td>NaN</td>\n",
       "      <td>NaN</td>\n",
       "      <td>NaN</td>\n",
       "      <td>NaN</td>\n",
       "      <td>NaN</td>\n",
       "      <td>NaN</td>\n",
       "      <td>NaN</td>\n",
       "      <td>NaN</td>\n",
       "      <td>NaN</td>\n",
       "      <td>NaN</td>\n",
       "      <td>NaN</td>\n",
       "      <td>NaN</td>\n",
       "    </tr>\n",
       "    <tr>\n",
       "      <th>997</th>\n",
       "      <td>NaN</td>\n",
       "      <td>NaN</td>\n",
       "      <td>NaN</td>\n",
       "      <td>NaN</td>\n",
       "      <td>NaN</td>\n",
       "      <td>NaN</td>\n",
       "      <td>NaN</td>\n",
       "      <td>NaN</td>\n",
       "      <td>NaN</td>\n",
       "      <td>NaN</td>\n",
       "      <td>NaN</td>\n",
       "      <td>NaN</td>\n",
       "      <td>NaN</td>\n",
       "      <td>NaN</td>\n",
       "    </tr>\n",
       "    <tr>\n",
       "      <th>998</th>\n",
       "      <td>NaN</td>\n",
       "      <td>NaN</td>\n",
       "      <td>NaN</td>\n",
       "      <td>NaN</td>\n",
       "      <td>NaN</td>\n",
       "      <td>NaN</td>\n",
       "      <td>NaN</td>\n",
       "      <td>NaN</td>\n",
       "      <td>NaN</td>\n",
       "      <td>NaN</td>\n",
       "      <td>NaN</td>\n",
       "      <td>NaN</td>\n",
       "      <td>NaN</td>\n",
       "      <td>NaN</td>\n",
       "    </tr>\n",
       "  </tbody>\n",
       "</table>\n",
       "<p>999 rows × 14 columns</p>\n",
       "</div>"
      ],
      "text/plain": [
       "       Brand_ID Brand_Name  Material_Type Eco_Friendly_Manufacturing  \\\n",
       "0    BRAND-0001    Brand_1         Tencel                         No   \n",
       "1    BRAND-0002    Brand_2  Vegan Leather                        Yes   \n",
       "2    BRAND-0003    Brand_3  Vegan Leather                         No   \n",
       "3    BRAND-0004    Brand_4  Bamboo Fabric                         No   \n",
       "4    BRAND-0005    Brand_5  Bamboo Fabric                        Yes   \n",
       "..          ...        ...            ...                        ...   \n",
       "994         NaN        NaN            NaN                        NaN   \n",
       "995         NaN        NaN            NaN                        NaN   \n",
       "996         NaN        NaN            NaN                        NaN   \n",
       "997         NaN        NaN            NaN                        NaN   \n",
       "998         NaN        NaN            NaN                        NaN   \n",
       "\n",
       "     Carbon_Footprint_MT  Water_Usage_Liters  Waste_Production_KG  \\\n",
       "0                   1.75          4511152.79             97844.11   \n",
       "1                 124.39          1951566.31             37267.75   \n",
       "2                 336.66           467454.52             38385.92   \n",
       "3                 152.04           899576.90             32665.45   \n",
       "4                 415.63          1809219.90             37295.47   \n",
       "..                   ...                 ...                  ...   \n",
       "994                  NaN                 NaN                  NaN   \n",
       "995                  NaN                 NaN                  NaN   \n",
       "996                  NaN                 NaN                  NaN   \n",
       "997                  NaN                 NaN                  NaN   \n",
       "998                  NaN                 NaN                  NaN   \n",
       "\n",
       "    Recycling_Programs  Impact Score (out of 30) Impact Score Grade  \\\n",
       "0                   No                      16.0                  C   \n",
       "1                   No                      16.0                  C   \n",
       "2                   No                      18.0                  C   \n",
       "3                   No                      18.0                  C   \n",
       "4                  Yes                      22.0                  B   \n",
       "..                 ...                       ...                ...   \n",
       "994                NaN                       NaN                NaN   \n",
       "995                NaN                       NaN                NaN   \n",
       "996                NaN                       NaN                NaN   \n",
       "997                NaN                       NaN                NaN   \n",
       "998                NaN                       NaN                NaN   \n",
       "\n",
       "     Unnamed: 10  Unnamed: 11  Unnamed: 12  Unnamed: 13  \n",
       "0            NaN          NaN          NaN          NaN  \n",
       "1            NaN          NaN          NaN          NaN  \n",
       "2            NaN          NaN          NaN          NaN  \n",
       "3            NaN          NaN          NaN          NaN  \n",
       "4            NaN          NaN          NaN          NaN  \n",
       "..           ...          ...          ...          ...  \n",
       "994          NaN          NaN          NaN          NaN  \n",
       "995          NaN          NaN          NaN          NaN  \n",
       "996          NaN          NaN          NaN          NaN  \n",
       "997          NaN          NaN          NaN          NaN  \n",
       "998          NaN          NaN          NaN          NaN  \n",
       "\n",
       "[999 rows x 14 columns]"
      ]
     },
     "execution_count": 4,
     "metadata": {},
     "output_type": "execute_result"
    }
   ],
   "source": [
    "data"
   ]
  },
  {
   "cell_type": "code",
   "execution_count": 5,
   "id": "270d96fc",
   "metadata": {},
   "outputs": [
    {
     "data": {
      "text/plain": [
       "<Axes: >"
      ]
     },
     "execution_count": 5,
     "metadata": {},
     "output_type": "execute_result"
    },
    {
     "data": {
      "image/png": "[encoded data removed]",
      "text/plain": [
       "<Figure size 640x480 with 2 Axes>"
      ]
     },
     "metadata": {},
     "output_type": "display_data"
    }
   ],
   "source": [
    "sns.heatmap(data.isnull(),yticklabels=False, cmap=\"viridis\")"
   ]
  },
  {
   "cell_type": "code",
   "execution_count": 41,
   "id": "ff916f12",
   "metadata": {},
   "outputs": [],
   "source": [
    "#data.fillna(0, inplace = True)"
   ]
  },
  {
   "cell_type": "code",
   "execution_count": 42,
   "id": "2b1a7ce0",
   "metadata": {},
   "outputs": [],
   "source": [
    "#sns.heatmap(data.isnull(),yticklabels=False, cmap=\"viridis\")"
   ]
  },
  {
   "cell_type": "code",
   "execution_count": 43,
   "id": "0619b0a9",
   "metadata": {},
   "outputs": [
    {
     "data": {
      "text/plain": [
       "Easy      80\n",
       "Normal    40\n",
       "Hard      15\n",
       "Name: activity_difficulty, dtype: int64"
      ]
     },
     "execution_count": 43,
     "metadata": {},
     "output_type": "execute_result"
    }
   ],
   "source": [
    "data['activity_difficulty'].value_counts()"
   ]
  },
  {
   "cell_type": "code",
   "execution_count": 44,
   "id": "e7c866b6",
   "metadata": {},
   "outputs": [
    {
     "data": {
      "text/plain": [
       "Scramble Sentence     100\n",
       "Picture Sequencing     35\n",
       "Name: activity_type, dtype: int64"
      ]
     },
     "execution_count": 44,
     "metadata": {},
     "output_type": "execute_result"
    }
   ],
   "source": [
    "data['activity_type'].value_counts()"
   ]
  },
  {
   "cell_type": "code",
   "execution_count": 45,
   "id": "0e75353c",
   "metadata": {},
   "outputs": [
    {
     "data": {
      "text/plain": [
       "Engaged           56\n",
       "Mildly Engaged    53\n",
       "Disengaged        26\n",
       "Name: engagement, dtype: int64"
      ]
     },
     "execution_count": 45,
     "metadata": {},
     "output_type": "execute_result"
    }
   ],
   "source": [
    "data['engagement'].value_counts()"
   ]
  },
  {
   "cell_type": "code",
   "execution_count": 46,
   "id": "04ad850d",
   "metadata": {},
   "outputs": [],
   "source": [
    "label_encoder_activity_type = LabelEncoder()\n",
    "data['activity_type_numeric'] = label_encoder_activity_type.fit_transform(data['activity_type'])"
   ]
  },
  {
   "cell_type": "code",
   "execution_count": 47,
   "id": "96044930",
   "metadata": {},
   "outputs": [],
   "source": [
    "label_encoder_engagement = LabelEncoder()\n",
    "data['engagement_numeric'] = label_encoder_engagement.fit_transform(data['engagement'])"
   ]
  },
  {
   "cell_type": "code",
   "execution_count": 48,
   "id": "ab1e4cab",
   "metadata": {},
   "outputs": [
    {
     "data": {
      "text/html": [
       "<div>\n",
       "<style scoped>\n",
       "    .dataframe tbody tr th:only-of-type {\n",
       "        vertical-align: middle;\n",
       "    }\n",
       "\n",
       "    .dataframe tbody tr th {\n",
       "        vertical-align: top;\n",
       "    }\n",
       "\n",
       "    .dataframe thead th {\n",
       "        text-align: right;\n",
       "    }\n",
       "</style>\n",
       "<table border=\"1\" class=\"dataframe\">\n",
       "  <thead>\n",
       "    <tr style=\"text-align: right;\">\n",
       "      <th></th>\n",
       "      <th>time_taken</th>\n",
       "      <th>re_attempts</th>\n",
       "      <th>errors</th>\n",
       "      <th>engagement</th>\n",
       "      <th>activity_type</th>\n",
       "      <th>activity_difficulty</th>\n",
       "      <th>activity_type_numeric</th>\n",
       "      <th>engagement_numeric</th>\n",
       "    </tr>\n",
       "  </thead>\n",
       "  <tbody>\n",
       "    <tr>\n",
       "      <th>0</th>\n",
       "      <td>38</td>\n",
       "      <td>1</td>\n",
       "      <td>1</td>\n",
       "      <td>Disengaged</td>\n",
       "      <td>Scramble Sentence</td>\n",
       "      <td>Easy</td>\n",
       "      <td>1</td>\n",
       "      <td>0</td>\n",
       "    </tr>\n",
       "    <tr>\n",
       "      <th>1</th>\n",
       "      <td>31</td>\n",
       "      <td>0</td>\n",
       "      <td>2</td>\n",
       "      <td>Mildly Engaged</td>\n",
       "      <td>Scramble Sentence</td>\n",
       "      <td>Easy</td>\n",
       "      <td>1</td>\n",
       "      <td>2</td>\n",
       "    </tr>\n",
       "    <tr>\n",
       "      <th>2</th>\n",
       "      <td>31</td>\n",
       "      <td>1</td>\n",
       "      <td>2</td>\n",
       "      <td>Mildly Engaged</td>\n",
       "      <td>Scramble Sentence</td>\n",
       "      <td>Easy</td>\n",
       "      <td>1</td>\n",
       "      <td>2</td>\n",
       "    </tr>\n",
       "    <tr>\n",
       "      <th>3</th>\n",
       "      <td>35</td>\n",
       "      <td>0</td>\n",
       "      <td>0</td>\n",
       "      <td>Engaged</td>\n",
       "      <td>Scramble Sentence</td>\n",
       "      <td>Easy</td>\n",
       "      <td>1</td>\n",
       "      <td>1</td>\n",
       "    </tr>\n",
       "    <tr>\n",
       "      <th>4</th>\n",
       "      <td>31</td>\n",
       "      <td>0</td>\n",
       "      <td>1</td>\n",
       "      <td>Mildly Engaged</td>\n",
       "      <td>Scramble Sentence</td>\n",
       "      <td>Easy</td>\n",
       "      <td>1</td>\n",
       "      <td>2</td>\n",
       "    </tr>\n",
       "    <tr>\n",
       "      <th>...</th>\n",
       "      <td>...</td>\n",
       "      <td>...</td>\n",
       "      <td>...</td>\n",
       "      <td>...</td>\n",
       "      <td>...</td>\n",
       "      <td>...</td>\n",
       "      <td>...</td>\n",
       "      <td>...</td>\n",
       "    </tr>\n",
       "    <tr>\n",
       "      <th>130</th>\n",
       "      <td>79</td>\n",
       "      <td>2</td>\n",
       "      <td>4</td>\n",
       "      <td>Disengaged</td>\n",
       "      <td>Picture Sequencing</td>\n",
       "      <td>Hard</td>\n",
       "      <td>0</td>\n",
       "      <td>0</td>\n",
       "    </tr>\n",
       "    <tr>\n",
       "      <th>131</th>\n",
       "      <td>85</td>\n",
       "      <td>3</td>\n",
       "      <td>6</td>\n",
       "      <td>Mildly Engaged</td>\n",
       "      <td>Picture Sequencing</td>\n",
       "      <td>Hard</td>\n",
       "      <td>0</td>\n",
       "      <td>2</td>\n",
       "    </tr>\n",
       "    <tr>\n",
       "      <th>132</th>\n",
       "      <td>81</td>\n",
       "      <td>2</td>\n",
       "      <td>6</td>\n",
       "      <td>Disengaged</td>\n",
       "      <td>Picture Sequencing</td>\n",
       "      <td>Hard</td>\n",
       "      <td>0</td>\n",
       "      <td>0</td>\n",
       "    </tr>\n",
       "    <tr>\n",
       "      <th>133</th>\n",
       "      <td>98</td>\n",
       "      <td>2</td>\n",
       "      <td>4</td>\n",
       "      <td>Engaged</td>\n",
       "      <td>Picture Sequencing</td>\n",
       "      <td>Hard</td>\n",
       "      <td>0</td>\n",
       "      <td>1</td>\n",
       "    </tr>\n",
       "    <tr>\n",
       "      <th>134</th>\n",
       "      <td>87</td>\n",
       "      <td>2</td>\n",
       "      <td>3</td>\n",
       "      <td>Engaged</td>\n",
       "      <td>Picture Sequencing</td>\n",
       "      <td>Hard</td>\n",
       "      <td>0</td>\n",
       "      <td>1</td>\n",
       "    </tr>\n",
       "  </tbody>\n",
       "</table>\n",
       "<p>135 rows × 8 columns</p>\n",
       "</div>"
      ],
      "text/plain": [
       "     time_taken  re_attempts  errors      engagement       activity_type  \\\n",
       "0            38            1       1      Disengaged   Scramble Sentence   \n",
       "1            31            0       2  Mildly Engaged   Scramble Sentence   \n",
       "2            31            1       2  Mildly Engaged   Scramble Sentence   \n",
       "3            35            0       0         Engaged   Scramble Sentence   \n",
       "4            31            0       1  Mildly Engaged   Scramble Sentence   \n",
       "..          ...          ...     ...             ...                 ...   \n",
       "130          79            2       4      Disengaged  Picture Sequencing   \n",
       "131          85            3       6  Mildly Engaged  Picture Sequencing   \n",
       "132          81            2       6      Disengaged  Picture Sequencing   \n",
       "133          98            2       4         Engaged  Picture Sequencing   \n",
       "134          87            2       3         Engaged  Picture Sequencing   \n",
       "\n",
       "    activity_difficulty  activity_type_numeric  engagement_numeric  \n",
       "0                  Easy                      1                   0  \n",
       "1                  Easy                      1                   2  \n",
       "2                  Easy                      1                   2  \n",
       "3                  Easy                      1                   1  \n",
       "4                  Easy                      1                   2  \n",
       "..                  ...                    ...                 ...  \n",
       "130                Hard                      0                   0  \n",
       "131                Hard                      0                   2  \n",
       "132                Hard                      0                   0  \n",
       "133                Hard                      0                   1  \n",
       "134                Hard                      0                   1  \n",
       "\n",
       "[135 rows x 8 columns]"
      ]
     },
     "execution_count": 48,
     "metadata": {},
     "output_type": "execute_result"
    }
   ],
   "source": [
    "data"
   ]
  },
  {
   "cell_type": "code",
   "execution_count": 49,
   "id": "a72289e0",
   "metadata": {},
   "outputs": [
    {
     "name": "stdout",
     "output_type": "stream",
     "text": [
      "<class 'pandas.core.frame.DataFrame'>\n",
      "RangeIndex: 135 entries, 0 to 134\n",
      "Data columns (total 8 columns):\n",
      " #   Column                 Non-Null Count  Dtype \n",
      "---  ------                 --------------  ----- \n",
      " 0   time_taken             135 non-null    int64 \n",
      " 1   re_attempts            135 non-null    int64 \n",
      " 2   errors                 135 non-null    int64 \n",
      " 3   engagement             135 non-null    object\n",
      " 4   activity_type          135 non-null    object\n",
      " 5   activity_difficulty    135 non-null    object\n",
      " 6   activity_type_numeric  135 non-null    int32 \n",
      " 7   engagement_numeric     135 non-null    int32 \n",
      "dtypes: int32(2), int64(3), object(3)\n",
      "memory usage: 7.5+ KB\n"
     ]
    }
   ],
   "source": [
    "data.info()"
   ]
  },
  {
   "cell_type": "code",
   "execution_count": 50,
   "id": "73977f57",
   "metadata": {},
   "outputs": [],
   "source": [
    "X = data[['engagement_numeric','time_taken','re_attempts','errors','activity_type_numeric']]\n",
    "y = data['activity_difficulty']"
   ]
  },
  {
   "cell_type": "code",
   "execution_count": 51,
   "id": "96538921",
   "metadata": {},
   "outputs": [],
   "source": [
    "from sklearn.svm import SVR\n",
    "from sklearn.model_selection import train_test_split\n",
    "from sklearn.preprocessing import StandardScaler\n",
    "from sklearn.metrics import mean_squared_error\n",
    "\n",
    "X_train, X_test, y_train, y_test = train_test_split(X, y, test_size=0.25, random_state=42)"
   ]
  },
  {
   "cell_type": "code",
   "execution_count": 52,
   "id": "5f07f354",
   "metadata": {},
   "outputs": [],
   "source": [
    "def model_score(model):\n",
    "    model.fit(X_train, y_train)\n",
    "    acc = model.score(X_test, y_test)\n",
    "    print(str(model)+ ' | ' +str(acc))"
   ]
  },
  {
   "cell_type": "code",
   "execution_count": 53,
   "id": "46b33529",
   "metadata": {},
   "outputs": [
    {
     "name": "stdout",
     "output_type": "stream",
     "text": [
      "RandomForestClassifier() | 0.9705882352941176\n",
      "KNeighborsClassifier(n_neighbors=3) | 0.9705882352941176\n",
      "DecisionTreeClassifier() | 0.9705882352941176\n"
     ]
    }
   ],
   "source": [
    "from sklearn.ensemble import RandomForestClassifier\n",
    "rf = RandomForestClassifier()\n",
    "model_score(rf)\n",
    "\n",
    "from sklearn.neighbors import KNeighborsClassifier\n",
    "knn = KNeighborsClassifier(n_neighbors=3)\n",
    "model_score(knn)\n",
    "\n",
    "from sklearn.tree import DecisionTreeClassifier\n",
    "dt = DecisionTreeClassifier()\n",
    "model_score(dt)"
   ]
  },
  {
   "cell_type": "code",
   "execution_count": 54,
   "id": "f60ae232",
   "metadata": {},
   "outputs": [],
   "source": [
    "y_pred=dt.predict(X_test)"
   ]
  },
  {
   "cell_type": "code",
   "execution_count": 55,
   "id": "a1562584",
   "metadata": {},
   "outputs": [
    {
     "name": "stdout",
     "output_type": "stream",
     "text": [
      "Accuracy: 97.06%\n"
     ]
    }
   ],
   "source": [
    "from sklearn.metrics import accuracy_score, classification_report, confusion_matrix\n",
    "\n",
    "accuracy = accuracy_score(y_test, y_pred)\n",
    "print(f\"Accuracy: {accuracy * 100:.2f}%\")"
   ]
  },
  {
   "cell_type": "code",
   "execution_count": 56,
   "id": "2ba85a18",
   "metadata": {},
   "outputs": [
    {
     "name": "stdout",
     "output_type": "stream",
     "text": [
      "              precision    recall  f1-score   support\n",
      "\n",
      "        Easy       1.00      1.00      1.00        23\n",
      "        Hard       0.00      0.00      0.00         1\n",
      "      Normal       0.91      1.00      0.95        10\n",
      "\n",
      "    accuracy                           0.97        34\n",
      "   macro avg       0.64      0.67      0.65        34\n",
      "weighted avg       0.94      0.97      0.96        34\n",
      "\n"
     ]
    },
    {
     "name": "stderr",
     "output_type": "stream",
     "text": [
      "C:\\Users\\Kalana\\anaconda3\\lib\\site-packages\\sklearn\\metrics\\_classification.py:1344: UndefinedMetricWarning: Precision and F-score are ill-defined and being set to 0.0 in labels with no predicted samples. Use `zero_division` parameter to control this behavior.\n",
      "  _warn_prf(average, modifier, msg_start, len(result))\n",
      "C:\\Users\\Kalana\\anaconda3\\lib\\site-packages\\sklearn\\metrics\\_classification.py:1344: UndefinedMetricWarning: Precision and F-score are ill-defined and being set to 0.0 in labels with no predicted samples. Use `zero_division` parameter to control this behavior.\n",
      "  _warn_prf(average, modifier, msg_start, len(result))\n",
      "C:\\Users\\Kalana\\anaconda3\\lib\\site-packages\\sklearn\\metrics\\_classification.py:1344: UndefinedMetricWarning: Precision and F-score are ill-defined and being set to 0.0 in labels with no predicted samples. Use `zero_division` parameter to control this behavior.\n",
      "  _warn_prf(average, modifier, msg_start, len(result))\n"
     ]
    }
   ],
   "source": [
    "print(classification_report(y_test, y_pred))"
   ]
  },
  {
   "cell_type": "code",
   "execution_count": 57,
   "id": "4ff592e3",
   "metadata": {},
   "outputs": [
    {
     "data": {
      "text/plain": [
       "array([[23,  0,  0],\n",
       "       [ 0,  0,  1],\n",
       "       [ 0,  0, 10]], dtype=int64)"
      ]
     },
     "execution_count": 57,
     "metadata": {},
     "output_type": "execute_result"
    }
   ],
   "source": [
    "confusion_matrix(y_test, y_pred)"
   ]
  },
  {
   "cell_type": "code",
   "execution_count": 58,
   "id": "e7c6e24c",
   "metadata": {},
   "outputs": [],
   "source": [
    "y_pred = dt.predict(X_test)"
   ]
  },
  {
   "cell_type": "code",
   "execution_count": 59,
   "id": "f98e5fbb",
   "metadata": {},
   "outputs": [
    {
     "data": {
      "text/html": [
       "<div>\n",
       "<style scoped>\n",
       "    .dataframe tbody tr th:only-of-type {\n",
       "        vertical-align: middle;\n",
       "    }\n",
       "\n",
       "    .dataframe tbody tr th {\n",
       "        vertical-align: top;\n",
       "    }\n",
       "\n",
       "    .dataframe thead th {\n",
       "        text-align: right;\n",
       "    }\n",
       "</style>\n",
       "<table border=\"1\" class=\"dataframe\">\n",
       "  <thead>\n",
       "    <tr style=\"text-align: right;\">\n",
       "      <th></th>\n",
       "      <th>time_taken</th>\n",
       "      <th>re_attempts</th>\n",
       "      <th>errors</th>\n",
       "      <th>engagement</th>\n",
       "      <th>activity_type</th>\n",
       "      <th>activity_difficulty</th>\n",
       "      <th>activity_type_numeric</th>\n",
       "      <th>engagement_numeric</th>\n",
       "    </tr>\n",
       "  </thead>\n",
       "  <tbody>\n",
       "    <tr>\n",
       "      <th>0</th>\n",
       "      <td>38</td>\n",
       "      <td>1</td>\n",
       "      <td>1</td>\n",
       "      <td>Disengaged</td>\n",
       "      <td>Scramble Sentence</td>\n",
       "      <td>Easy</td>\n",
       "      <td>1</td>\n",
       "      <td>0</td>\n",
       "    </tr>\n",
       "    <tr>\n",
       "      <th>1</th>\n",
       "      <td>31</td>\n",
       "      <td>0</td>\n",
       "      <td>2</td>\n",
       "      <td>Mildly Engaged</td>\n",
       "      <td>Scramble Sentence</td>\n",
       "      <td>Easy</td>\n",
       "      <td>1</td>\n",
       "      <td>2</td>\n",
       "    </tr>\n",
       "    <tr>\n",
       "      <th>2</th>\n",
       "      <td>31</td>\n",
       "      <td>1</td>\n",
       "      <td>2</td>\n",
       "      <td>Mildly Engaged</td>\n",
       "      <td>Scramble Sentence</td>\n",
       "      <td>Easy</td>\n",
       "      <td>1</td>\n",
       "      <td>2</td>\n",
       "    </tr>\n",
       "    <tr>\n",
       "      <th>3</th>\n",
       "      <td>35</td>\n",
       "      <td>0</td>\n",
       "      <td>0</td>\n",
       "      <td>Engaged</td>\n",
       "      <td>Scramble Sentence</td>\n",
       "      <td>Easy</td>\n",
       "      <td>1</td>\n",
       "      <td>1</td>\n",
       "    </tr>\n",
       "    <tr>\n",
       "      <th>4</th>\n",
       "      <td>31</td>\n",
       "      <td>0</td>\n",
       "      <td>1</td>\n",
       "      <td>Mildly Engaged</td>\n",
       "      <td>Scramble Sentence</td>\n",
       "      <td>Easy</td>\n",
       "      <td>1</td>\n",
       "      <td>2</td>\n",
       "    </tr>\n",
       "    <tr>\n",
       "      <th>...</th>\n",
       "      <td>...</td>\n",
       "      <td>...</td>\n",
       "      <td>...</td>\n",
       "      <td>...</td>\n",
       "      <td>...</td>\n",
       "      <td>...</td>\n",
       "      <td>...</td>\n",
       "      <td>...</td>\n",
       "    </tr>\n",
       "    <tr>\n",
       "      <th>130</th>\n",
       "      <td>79</td>\n",
       "      <td>2</td>\n",
       "      <td>4</td>\n",
       "      <td>Disengaged</td>\n",
       "      <td>Picture Sequencing</td>\n",
       "      <td>Hard</td>\n",
       "      <td>0</td>\n",
       "      <td>0</td>\n",
       "    </tr>\n",
       "    <tr>\n",
       "      <th>131</th>\n",
       "      <td>85</td>\n",
       "      <td>3</td>\n",
       "      <td>6</td>\n",
       "      <td>Mildly Engaged</td>\n",
       "      <td>Picture Sequencing</td>\n",
       "      <td>Hard</td>\n",
       "      <td>0</td>\n",
       "      <td>2</td>\n",
       "    </tr>\n",
       "    <tr>\n",
       "      <th>132</th>\n",
       "      <td>81</td>\n",
       "      <td>2</td>\n",
       "      <td>6</td>\n",
       "      <td>Disengaged</td>\n",
       "      <td>Picture Sequencing</td>\n",
       "      <td>Hard</td>\n",
       "      <td>0</td>\n",
       "      <td>0</td>\n",
       "    </tr>\n",
       "    <tr>\n",
       "      <th>133</th>\n",
       "      <td>98</td>\n",
       "      <td>2</td>\n",
       "      <td>4</td>\n",
       "      <td>Engaged</td>\n",
       "      <td>Picture Sequencing</td>\n",
       "      <td>Hard</td>\n",
       "      <td>0</td>\n",
       "      <td>1</td>\n",
       "    </tr>\n",
       "    <tr>\n",
       "      <th>134</th>\n",
       "      <td>87</td>\n",
       "      <td>2</td>\n",
       "      <td>3</td>\n",
       "      <td>Engaged</td>\n",
       "      <td>Picture Sequencing</td>\n",
       "      <td>Hard</td>\n",
       "      <td>0</td>\n",
       "      <td>1</td>\n",
       "    </tr>\n",
       "  </tbody>\n",
       "</table>\n",
       "<p>135 rows × 8 columns</p>\n",
       "</div>"
      ],
      "text/plain": [
       "     time_taken  re_attempts  errors      engagement       activity_type  \\\n",
       "0            38            1       1      Disengaged   Scramble Sentence   \n",
       "1            31            0       2  Mildly Engaged   Scramble Sentence   \n",
       "2            31            1       2  Mildly Engaged   Scramble Sentence   \n",
       "3            35            0       0         Engaged   Scramble Sentence   \n",
       "4            31            0       1  Mildly Engaged   Scramble Sentence   \n",
       "..          ...          ...     ...             ...                 ...   \n",
       "130          79            2       4      Disengaged  Picture Sequencing   \n",
       "131          85            3       6  Mildly Engaged  Picture Sequencing   \n",
       "132          81            2       6      Disengaged  Picture Sequencing   \n",
       "133          98            2       4         Engaged  Picture Sequencing   \n",
       "134          87            2       3         Engaged  Picture Sequencing   \n",
       "\n",
       "    activity_difficulty  activity_type_numeric  engagement_numeric  \n",
       "0                  Easy                      1                   0  \n",
       "1                  Easy                      1                   2  \n",
       "2                  Easy                      1                   2  \n",
       "3                  Easy                      1                   1  \n",
       "4                  Easy                      1                   2  \n",
       "..                  ...                    ...                 ...  \n",
       "130                Hard                      0                   0  \n",
       "131                Hard                      0                   2  \n",
       "132                Hard                      0                   0  \n",
       "133                Hard                      0                   1  \n",
       "134                Hard                      0                   1  \n",
       "\n",
       "[135 rows x 8 columns]"
      ]
     },
     "execution_count": 59,
     "metadata": {},
     "output_type": "execute_result"
    }
   ],
   "source": [
    "data"
   ]
  },
  {
   "cell_type": "code",
   "execution_count": 60,
   "id": "ea3266e0",
   "metadata": {},
   "outputs": [],
   "source": [
    "import pickle\n",
    "# save model to file\n",
    "pickle.dump(dt, open(\"model.dat\", \"wb\"))"
   ]
  },
  {
   "cell_type": "code",
   "execution_count": 61,
   "id": "c913fd0d",
   "metadata": {},
   "outputs": [],
   "source": [
    "predict=rf.predict(X_test)"
   ]
  },
  {
   "cell_type": "code",
   "execution_count": 62,
   "id": "86e56624",
   "metadata": {},
   "outputs": [
    {
     "name": "stdout",
     "output_type": "stream",
     "text": [
      "<class 'numpy.ndarray'>\n",
      "<class 'pandas.core.series.Series'>\n"
     ]
    },
    {
     "data": {
      "image/png": "[encoded data removed]",
      "text/plain": [
       "<Figure size 1600x500 with 1 Axes>"
      ]
     },
     "metadata": {},
     "output_type": "display_data"
    }
   ],
   "source": [
    "A = np.array(y_test)\n",
    "B = predict\n",
    "print(type(predict))\n",
    "print(type(y_test))\n",
    "plt.rcParams['figure.figsize'] = 16,5\n",
    "plt.figure()\n",
    "plt.plot(A[-100:], label=\"Real\")\n",
    "plt.plot(B[-100:], label=\"Predicted\")\n",
    "plt.legend()\n",
    "plt.title(\"Result : real vs predicted\")\n",
    "plt.ylabel(\"Result\")\n",
    "plt.xticks(())\n",
    "plt.show()"
   ]
  },
  {
   "cell_type": "code",
   "execution_count": 63,
   "id": "fcd920d4",
   "metadata": {},
   "outputs": [],
   "source": [
    "with open('model.dat' , 'rb') as f:\n",
    "    model = pickle.load(f)"
   ]
  },
  {
   "cell_type": "code",
   "execution_count": 64,
   "id": "d236207d",
   "metadata": {},
   "outputs": [
    {
     "name": "stderr",
     "output_type": "stream",
     "text": [
      "C:\\Users\\Kalana\\anaconda3\\lib\\site-packages\\sklearn\\base.py:420: UserWarning: X does not have valid feature names, but DecisionTreeClassifier was fitted with feature names\n",
      "  warnings.warn(\n"
     ]
    },
    {
     "data": {
      "text/plain": [
       "'Easy'"
      ]
     },
     "execution_count": 64,
     "metadata": {},
     "output_type": "execute_result"
    }
   ],
   "source": [
    "model.predict([[1,38,1,1,1]])[0]"
   ]
  },
  {
   "cell_type": "code",
   "execution_count": null,
   "id": "f1738bf6",
   "metadata": {},
   "outputs": [],
   "source": []
  },
  {
   "cell_type": "code",
   "execution_count": null,
   "id": "1a457004",
   "metadata": {},
   "outputs": [],
   "source": []
  }
 ],
 "metadata": {
  "kernelspec": {
   "display_name": "Python 3 (ipykernel)",
   "language": "python",
   "name": "python3"
  },
  "language_info": {
   "codemirror_mode": {
    "name": "ipython",
    "version": 3
   },
   "file_extension": ".py",
   "mimetype": "text/x-python",
   "name": "python",
   "nbconvert_exporter": "python",
   "pygments_lexer": "ipython3",
   "version": "3.10.9"
  }
 },
 "nbformat": 4,
 "nbformat_minor": 5
}
